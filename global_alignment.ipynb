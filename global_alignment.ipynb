{
  "nbformat": 4,
  "nbformat_minor": 0,
  "metadata": {
    "colab": {
      "provenance": []
    },
    "kernelspec": {
      "name": "python3",
      "display_name": "Python 3"
    },
    "language_info": {
      "name": "python"
    }
  },
  "cells": [
    {
      "cell_type": "markdown",
      "source": [
        "Hirschberg's Algorithm"
      ],
      "metadata": {
        "id": "S7Suhz5j2zSI"
      }
    },
    {
      "cell_type": "code",
      "execution_count": null,
      "metadata": {
        "id": "NSGBkqk32h-W"
      },
      "outputs": [],
      "source": []
    },
    {
      "cell_type": "markdown",
      "source": [
        "Needleman-Wunsch Algorithm"
      ],
      "metadata": {
        "id": "cFCso9Mc24C8"
      }
    },
    {
      "cell_type": "code",
      "source": [],
      "metadata": {
        "id": "Lh4c4wuE269_"
      },
      "execution_count": null,
      "outputs": []
    }
  ]
}