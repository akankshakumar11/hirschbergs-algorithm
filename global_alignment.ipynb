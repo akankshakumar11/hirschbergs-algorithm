{
  "nbformat": 4,
  "nbformat_minor": 0,
  "metadata": {
    "colab": {
      "provenance": []
    },
    "kernelspec": {
      "name": "python3",
      "display_name": "Python 3"
    },
    "language_info": {
      "name": "python"
    }
  },
  "cells": [
    {
      "cell_type": "code",
      "source": [
        "!pip install nose"
      ],
      "metadata": {
        "colab": {
          "base_uri": "https://localhost:8080/"
        },
        "id": "kO-Wv76p8SGa",
        "outputId": "327db92e-abe9-4eba-e269-074175b8d60a"
      },
      "execution_count": 78,
      "outputs": [
        {
          "output_type": "stream",
          "name": "stdout",
          "text": [
            "Requirement already satisfied: nose in /usr/local/lib/python3.10/dist-packages (1.3.7)\n"
          ]
        }
      ]
    },
    {
      "cell_type": "code",
      "source": [
        "import numpy as np\n",
        "import matplotlib.pyplot as plt\n",
        "import pandas as pd\n",
        "import nose.tools as nt"
      ],
      "metadata": {
        "id": "FKKmbCQf8ZsW"
      },
      "execution_count": 79,
      "outputs": []
    },
    {
      "cell_type": "code",
      "source": [
        "!wget -c 'https://drive.google.com/uc?export=download&id=1rh6Rgjoyloyp2hPhTlOBD16yc7sc3gPy' -O data.zip\n",
        "!unzip -o data.zip"
      ],
      "metadata": {
        "colab": {
          "base_uri": "https://localhost:8080/"
        },
        "id": "HzT59X79854p",
        "outputId": "ac65b938-0033-4be8-c924-66583f467b41"
      },
      "execution_count": 80,
      "outputs": [
        {
          "output_type": "stream",
          "name": "stdout",
          "text": [
            "--2023-11-29 08:32:10--  https://drive.google.com/uc?export=download&id=1rh6Rgjoyloyp2hPhTlOBD16yc7sc3gPy\n",
            "Resolving drive.google.com (drive.google.com)... 142.251.167.138, 142.251.167.113, 142.251.167.139, ...\n",
            "Connecting to drive.google.com (drive.google.com)|142.251.167.138|:443... connected.\n",
            "HTTP request sent, awaiting response... 416 Requested range not satisfiable\n",
            "\n",
            "    The file is already fully retrieved; nothing to do.\n",
            "\n",
            "Archive:  data.zip\n",
            "  inflating: BLOSUM62.txt            \n",
            "  inflating: Q2b_reference.txt       \n"
          ]
        }
      ]
    },
    {
      "cell_type": "code",
      "source": [
        "!ls *.txt"
      ],
      "metadata": {
        "colab": {
          "base_uri": "https://localhost:8080/"
        },
        "id": "o7xrWtCA9M0V",
        "outputId": "e12dfdc7-13ec-4bd9-8a75-c8f202f511ef"
      },
      "execution_count": 81,
      "outputs": [
        {
          "output_type": "stream",
          "name": "stdout",
          "text": [
            "BLOSUM62.txt  Q2b_reference.txt\n"
          ]
        }
      ]
    },
    {
      "cell_type": "markdown",
      "source": [
        "# Needleman-Wunsch Algorithm"
      ],
      "metadata": {
        "id": "cFCso9Mc24C8"
      }
    },
    {
      "cell_type": "code",
      "source": [
        "def read_blosum62(path):\n",
        "    delta = {}\n",
        "    with open(path, 'r') as f:\n",
        "        lines = f.readlines()[6:]\n",
        "        keys = lines[0].split()\n",
        "        keys[-1] = '-'\n",
        "        for i, line in enumerate(lines[1:]):\n",
        "            delta[keys[i]] = {k : int(v) for (k,v) in zip(keys, line.split()[1:])}\n",
        "    return delta\n",
        "\n",
        "blosum = read_blosum62('./BLOSUM62.txt')\n",
        "\n",
        "UP = (-1,0)\n",
        "LEFT = (0, -1)\n",
        "TOPLEFT = (-1, -1)\n",
        "ORIGIN = (0, 0)\n",
        "\n",
        "def traceback_global(v, w, pointers):\n",
        "    i,j = len(v), len(w)\n",
        "    new_v = []\n",
        "    new_w = []\n",
        "    while True:\n",
        "        di, dj = pointers[i][j]\n",
        "        if (di,dj) == LEFT:\n",
        "            new_v.append('-')\n",
        "            new_w.append(w[j-1])\n",
        "        elif (di,dj) == UP:\n",
        "            new_v.append(v[i-1])\n",
        "            new_w.append('-')\n",
        "        elif (di,dj) == TOPLEFT:\n",
        "            new_v.append(v[i-1])\n",
        "            new_w.append(w[j-1])\n",
        "        i, j = i + di, j + dj\n",
        "        if (i <= 0 and j <= 0):\n",
        "            break\n",
        "    return ''.join(new_v[::-1])+'\\n'+''.join(new_w[::-1])\n",
        "\n",
        "def needleman_wunsch(v, w, delta):\n",
        "    M = [[0 for j in range(len(w)+1)] for i in range(len(v)+1)]\n",
        "    pointers = [[ORIGIN for j in range(len(w)+1)] for i in range(len(v)+1)]\n",
        "    score, alignment = None, None\n",
        "\n",
        "    for i in range(1, len(v) + 1):\n",
        "      M[i][0] = M[i - 1][0] + delta[v[i - 1]]['-']\n",
        "      pointers[i][0] = UP\n",
        "\n",
        "    for j in range(1, len(w) + 1):\n",
        "      M[0][j] = M[0][j - 1] + delta['-'][w[j - 1]]\n",
        "      pointers[0][j] = LEFT\n",
        "\n",
        "    for i in range(1, len(v) + 1):\n",
        "      for j in range(1, len(w) + 1):\n",
        "        scores = [M[i - 1][j - 1] + delta[v[i - 1]][w[j - 1]], M[i - 1][j] + delta[v[i - 1]]['-'], M[i][j - 1] + delta['-'][w[j - 1]]]\n",
        "        M[i][j] = max(scores)\n",
        "        if M[i][j] == scores[0]:\n",
        "          pointers[i][j] = TOPLEFT\n",
        "        elif M[i][j] == scores[1]:\n",
        "          pointers[i][j] = UP\n",
        "        else:\n",
        "          pointers[i][j] = LEFT\n",
        "    score = M[len(v)][len(w)]\n",
        "    # --------------------------------------------\n",
        "    alignment = traceback_global(v,w, pointers)\n",
        "    return score, alignment\n",
        "\n",
        "keys = ['A', 'C', 'T', 'G', '-']\n",
        "delta = {}\n",
        "for i in range(len(keys)):\n",
        "    delta[keys[i]] = {k : v for (k,v) in zip(keys, [1 if keys[i] == keys[j]  else -1 for j in range(len(keys))])}\n",
        "\n",
        "needleman_wunsch(\"TAGATA\", \"GTAGGCTTAAGGTTA\", delta)"
      ],
      "metadata": {
        "colab": {
          "base_uri": "https://localhost:8080/"
        },
        "id": "RemMJbgpzNnt",
        "outputId": "edfaffd7-5b06-4235-b312-698d95edcf5b"
      },
      "execution_count": 82,
      "outputs": [
        {
          "output_type": "execute_result",
          "data": {
            "text/plain": [
              "(-3, '-TA-G----A---TA\\nGTAGGCTTAAGGTTA')"
            ]
          },
          "metadata": {},
          "execution_count": 82
        }
      ]
    },
    {
      "cell_type": "markdown",
      "source": [
        "# Hirschberg's Algorithm"
      ],
      "metadata": {
        "id": "S7Suhz5j2zSI"
      }
    },
    {
      "cell_type": "code",
      "execution_count": 82,
      "metadata": {
        "id": "NSGBkqk32h-W"
      },
      "outputs": [],
      "source": [
        "def hirschberg(seq1, seq2):\n",
        "    # Your Hirschberg implementation here\n",
        "    pass\n",
        "\n",
        "def hirschberg_recursive(seq1, seq2):\n",
        "    # Helper function for recursion\n",
        "    pass"
      ]
    },
    {
      "cell_type": "markdown",
      "source": [
        "# Visualization"
      ],
      "metadata": {
        "id": "xrN8nmYPOEsH"
      }
    },
    {
      "cell_type": "code",
      "source": [],
      "metadata": {
        "id": "Lh4c4wuE269_"
      },
      "execution_count": 83,
      "outputs": []
    }
  ]
}
