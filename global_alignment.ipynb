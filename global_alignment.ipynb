{
  "nbformat": 4,
  "nbformat_minor": 0,
  "metadata": {
    "colab": {
      "provenance": []
    },
    "kernelspec": {
      "name": "python3",
      "display_name": "Python 3"
    },
    "language_info": {
      "name": "python"
    }
  },
  "cells": [
    {
      "cell_type": "code",
      "source": [
        "import numpy as np\n",
        "import matplotlib.pyplot as plt\n",
        "import pandas as pd\n",
        "# import nose.tools as nt"
      ],
      "metadata": {
        "id": "FKKmbCQf8ZsW"
      },
      "execution_count": 34,
      "outputs": []
    },
    {
      "cell_type": "markdown",
      "source": [
        "# Needleman-Wunsch Algorithm"
      ],
      "metadata": {
        "id": "cFCso9Mc24C8"
      }
    },
    {
      "cell_type": "code",
      "source": [
        "# From HW 1\n",
        "UP = (-1,0)\n",
        "LEFT = (0, -1)\n",
        "TOPLEFT = (-1, -1)\n",
        "ORIGIN = (0, 0)\n",
        "\n",
        "def traceback_global(v, w, pointers):\n",
        "    i,j = len(v), len(w)\n",
        "    new_v = []\n",
        "    new_w = []\n",
        "    while True:\n",
        "        di, dj = pointers[i][j]\n",
        "        if (di,dj) == LEFT:\n",
        "            new_v.append('-')\n",
        "            new_w.append(w[j-1])\n",
        "        elif (di,dj) == UP:\n",
        "            new_v.append(v[i-1])\n",
        "            new_w.append('-')\n",
        "        elif (di,dj) == TOPLEFT:\n",
        "            new_v.append(v[i-1])\n",
        "            new_w.append(w[j-1])\n",
        "        i, j = i + di, j + dj\n",
        "        if (i <= 0 and j <= 0):\n",
        "            break\n",
        "    return ''.join(new_v[::-1])+'\\n'+''.join(new_w[::-1])\n",
        "\n",
        "def needleman_wunsch(v, w, delta):\n",
        "    M = [[0 for j in range(len(w)+1)] for i in range(len(v)+1)]\n",
        "    pointers = [[ORIGIN for j in range(len(w)+1)] for i in range(len(v)+1)]\n",
        "    score, alignment = None, None\n",
        "\n",
        "    for i in range(1, len(v) + 1):\n",
        "      M[i][0] = M[i - 1][0] + delta[v[i - 1]]['-']\n",
        "      pointers[i][0] = UP\n",
        "\n",
        "    for j in range(1, len(w) + 1):\n",
        "      M[0][j] = M[0][j - 1] + delta['-'][w[j - 1]]\n",
        "      pointers[0][j] = LEFT\n",
        "\n",
        "    for i in range(1, len(v) + 1):\n",
        "      for j in range(1, len(w) + 1):\n",
        "        scores = [M[i - 1][j - 1] + delta[v[i - 1]][w[j - 1]], M[i - 1][j] + delta[v[i - 1]]['-'], M[i][j - 1] + delta['-'][w[j - 1]]]\n",
        "        M[i][j] = max(scores)\n",
        "        if M[i][j] == scores[0]:\n",
        "          pointers[i][j] = TOPLEFT\n",
        "        elif M[i][j] == scores[1]:\n",
        "          pointers[i][j] = UP\n",
        "        else:\n",
        "          pointers[i][j] = LEFT\n",
        "    score = M[len(v)][len(w)]\n",
        "    # --------------------------------------------\n",
        "    alignment = traceback_global(v,w, pointers)\n",
        "    return score, alignment"
      ],
      "metadata": {
        "id": "RemMJbgpzNnt"
      },
      "execution_count": 37,
      "outputs": []
    },
    {
      "cell_type": "markdown",
      "source": [
        "# Hirschberg's Algorithm"
      ],
      "metadata": {
        "id": "S7Suhz5j2zSI"
      }
    },
    {
      "cell_type": "code",
      "execution_count": 38,
      "metadata": {
        "id": "NSGBkqk32h-W"
      },
      "outputs": [],
      "source": [
        "# Space-efficient function to calculate scores\n",
        "def hirschberg_score(seq1, seq2, delta):\n",
        "  # Store 2 columns at a time\n",
        "  m = len(seq1)\n",
        "  n = len(seq2)\n",
        "  two_cols = [[0 for j in range(m + 1)] for i in range(2)]\n",
        "\n",
        "  # Define an index to be either 0 or 1\n",
        "  current = 0\n",
        "  prev = 1\n",
        "  # Iterate\n",
        "  for row in range(n + 1):\n",
        "    for col in range(m + 1):\n",
        "      # Source must be 0\n",
        "      if row == 0 and col == 0:\n",
        "        two_cols[current][col] = 0\n",
        "      elif row > 0 and col == 0:\n",
        "        # Gap -> get result from previous row\n",
        "        two_cols[current][col] = two_cols[prev][col] + delta[seq2[row - 1]][\"-\"]\n",
        "      elif row == 0 and col > 0:\n",
        "        # Gap -> get result from previous col\n",
        "        two_cols[current][col] = two_cols[current][col - 1] + delta[\"-\"][seq1[col - 1]]\n",
        "      else:\n",
        "        # Find max score\n",
        "        one = two_cols[prev][col] + delta[seq2[row - 1]][\"-\"]\n",
        "        two = two_cols[current][col - 1] + delta[\"-\"][seq1[col - 1]]\n",
        "        three = two_cols[prev][col - 1] + delta[seq2[row - 1]][seq1[col - 1]]\n",
        "        val_arr = [one, two, three]\n",
        "        two_cols[current][col] = max(val_arr)\n",
        "\n",
        "    # Update indices\n",
        "    if current == 0:\n",
        "      current += 1\n",
        "    elif current == 1:\n",
        "      current -= 1\n",
        "    if prev == 1:\n",
        "      prev -= 1\n",
        "    elif prev == 0:\n",
        "      prev += 1\n",
        "\n",
        "  # Return the element at (m, n)\n",
        "  return two_cols[prev]"
      ]
    },
    {
      "cell_type": "code",
      "source": [
        "# Main function for Hirschberg\n",
        "def hirschberg(seq1, seq2, delta):\n",
        "    # Your Hirschberg implementation here\n",
        "    # Define sequence lengths\n",
        "    m = len(seq1)\n",
        "    n = len(seq2)\n",
        "\n",
        "    pairs = [(0, 0), (m, n)]\n",
        "    # Call recursive function\n",
        "    hirschberg_recursive(seq1, seq2, 0, 0, m, n, delta, pairs)\n",
        "    # print(sorted(pairs))\n",
        "    # Get the score\n",
        "    output = hirschberg_score(seq1, seq2, delta)\n",
        "    score = output[len(output) - 1]\n",
        "    # print(output)\n",
        "    # Get the backtrace and alignment\n",
        "    alignment = traceback_global(seq1, seq2, hirschberg_backtrace(seq1, seq2, sorted(pairs), delta))\n",
        "\n",
        "    return score, alignment\n",
        "\n",
        "# Recursive function\n",
        "def hirschberg_recursive(v, w, i, j, i_prime, j_prime, delta, pairs):\n",
        "    # Helper function for recursion\n",
        "    # From Lecture 5 slides\n",
        "    if j_prime - j <= 1:\n",
        "      return\n",
        "\n",
        "    # Find i* and add to table\n",
        "    new_j = int(j + (j_prime - j) / 2)\n",
        "\n",
        "    # Calculate the prefix and suffix arrays\n",
        "    prefixes = np.array(hirschberg_score(v[i:i_prime], w[j:new_j], delta))\n",
        "    # Need to reverse for the suffix array\n",
        "    suffixes = np.array(hirschberg_score(v[i:i_prime][::-1], w[new_j:j_prime][::-1], delta))\n",
        "\n",
        "    # Find and maximize the weights\n",
        "    wt = np.zeros(len(prefixes))\n",
        "    for index in range(len(prefixes)):\n",
        "        wt[index] = prefixes[index] + suffixes[-(index + 1)]\n",
        "\n",
        "    i_star = np.argmax(wt) + i\n",
        "    pairs.append((i_star, new_j))\n",
        "\n",
        "    # Recursive calls\n",
        "    hirschberg_recursive(v, w, i, j, i_star, new_j, delta, pairs)\n",
        "    hirschberg_recursive(v, w, i_star, new_j, i_prime, j_prime, delta, pairs)"
      ],
      "metadata": {
        "id": "RJOpynsYcyA6"
      },
      "execution_count": 39,
      "outputs": []
    },
    {
      "cell_type": "code",
      "source": [
        "# Function to find the backtrace\n",
        "# Input: points where Hirschberg splits the DP table\n",
        "def hirschberg_backtrace(seq1, seq2, pairs, delta):\n",
        "  # print(pairs)\n",
        "  m = len(seq1)\n",
        "  n = len(seq2)\n",
        "  # From hirschberg_score\n",
        "  two_cols = [[0 for j in range(m + 1)] for i in range(2)]\n",
        "  pointers = [[ORIGIN for j in range(n + 1)] for i in range(m + 1)]\n",
        "  # Define an index to be either 0 or 1\n",
        "  current = 0\n",
        "  prev = 1\n",
        "  # Iterate\n",
        "  for row in range(n + 1):\n",
        "    for col in range(m + 1):\n",
        "      # Source must be 0\n",
        "      if row == 0 and col == 0:\n",
        "        two_cols[current][col] = 0\n",
        "      elif row > 0 and col == 0:\n",
        "        # Gap -> get result from previous row\n",
        "        two_cols[current][col] = two_cols[prev][col] + delta[seq2[row - 1]][\"-\"]\n",
        "      elif row == 0 and col > 0:\n",
        "        # Gap -> get result from previous col\n",
        "        two_cols[current][col] = two_cols[current][col - 1] + delta[\"-\"][seq1[col - 1]]\n",
        "      else:\n",
        "        # Check for a match and update using the max score\n",
        "        one = two_cols[prev][col] + delta[seq2[row - 1]][\"-\"]\n",
        "        two = two_cols[current][col - 1] + delta[\"-\"][seq1[col - 1]]\n",
        "        three = two_cols[prev][col - 1] + delta[seq2[row - 1]][seq1[col - 1]]\n",
        "        val_arr = [one, two, three]\n",
        "        two_cols[current][col] = max(val_arr)\n",
        "\n",
        "    # Update indices\n",
        "    if current == 0:\n",
        "      current += 1\n",
        "    elif current == 1:\n",
        "      current -= 1\n",
        "    if prev == 1:\n",
        "      prev -= 1\n",
        "    elif prev == 0:\n",
        "      prev += 1\n",
        "\n",
        "    # Check if all pairs have been added\n",
        "    if row > 0 and pairs[row][0] - pairs[row - 1][0] <= 1:\n",
        "      row_diff = pairs[row][0] - pairs[row - 1][0]\n",
        "      col_diff = pairs[row][1] - pairs[row - 1][1]\n",
        "      # Ensure that pairs are within range\n",
        "      if row_diff == 0:\n",
        "        pointers[pairs[row][0]][pairs[row][1]] = LEFT\n",
        "      elif row_diff == 1 and col_diff == 0:\n",
        "        pointers[pairs[row][0]][pairs[row][1]] = UP\n",
        "      elif row_diff == 1 and col_diff == 1:\n",
        "        pointers[pairs[row][0]][pairs[row][1]] = TOPLEFT\n",
        "    elif row > 0:\n",
        "      # Need to do a backtrace from pairs[row] to pairs[row - 1]\n",
        "      top_row, top_col = pairs[row - 1]\n",
        "      bot_row, bot_col = pairs[row]\n",
        "\n",
        "      # Iterate\n",
        "      curr = [top_row, top_col]\n",
        "      # Store all possible paths from a starting point\n",
        "      # Priority: TOPLEFT -> UP -> LEFT\n",
        "      next = [curr]\n",
        "      while True:\n",
        "        # Get next row and col\n",
        "        now = next.pop()\n",
        "        curr_row, curr_col = now[0], now[1]\n",
        "\n",
        "        if len(now) > 2:\n",
        "          # Update backpointer\n",
        "          pointers[curr_row][curr_col] = now[2]\n",
        "\n",
        "        # Break if we're at the bottom right\n",
        "        if curr_row == bot_row and curr_col == bot_col:\n",
        "          break\n",
        "\n",
        "        # LEFT\n",
        "        if curr_col < bot_col and two_cols[prev][curr_row] == two_cols[current][curr_row] + delta[\"-\"][seq2[curr_col]]:\n",
        "          next.append([curr_row, bot_col, LEFT])\n",
        "\n",
        "        # UP\n",
        "        # Make sure we're in the same column\n",
        "        if curr_col == bot_col:\n",
        "          use = prev\n",
        "        else:\n",
        "          use = current\n",
        "        if curr_row < bot_row and two_cols[use][curr_row + 1] == two_cols[use][curr_row] + delta[seq1[curr_row]][\"-\"]:\n",
        "          next.append([curr_row + 1, curr_col, UP])\n",
        "\n",
        "        # TOPLEFT\n",
        "        if curr_row < bot_row and curr_col < bot_col and two_cols[prev][curr_row + 1] == two_cols[current][curr_row] + delta[seq1[curr_row]][seq2[curr_col]]:\n",
        "          next.append([curr_row + 1, bot_col, TOPLEFT])\n",
        "\n",
        "  return pointers"
      ],
      "metadata": {
        "id": "NZec_jsp-hns"
      },
      "execution_count": 40,
      "outputs": []
    },
    {
      "cell_type": "markdown",
      "source": [
        "# Tests"
      ],
      "metadata": {
        "id": "RM8lWlGsFM8p"
      }
    },
    {
      "cell_type": "markdown",
      "source": [
        "## Simple Tests"
      ],
      "metadata": {
        "id": "2zSMZ62XDOXA"
      }
    },
    {
      "cell_type": "code",
      "source": [
        "# Define a delta\n",
        "keys = ['A', 'C', 'T', 'G', '-']\n",
        "delta = {}\n",
        "for i in range(len(keys)):\n",
        "    delta[keys[i]] = {k : v for (k,v) in zip(keys, [1 if keys[i] == keys[j]  else -1 for j in range(len(keys))])}\n",
        "\n",
        "# Test 1\n",
        "# From HW1\n",
        "s = 'TG'\n",
        "t = 'ATCG'\n",
        "# (Score, Alignment)\n",
        "print(f\"Needleman-Wunsch: {needleman_wunsch(s, t, delta)}\")\n",
        "print(f\"Hirschberg: {hirschberg(s, t, delta)}\")\n"
      ],
      "metadata": {
        "colab": {
          "base_uri": "https://localhost:8080/"
        },
        "id": "p8un5SM9DUNj",
        "outputId": "f57c5599-9034-4ec1-90b8-408c819d3495"
      },
      "execution_count": 41,
      "outputs": [
        {
          "output_type": "stream",
          "name": "stdout",
          "text": [
            "Needleman-Wunsch: (0, '-T-G\\nATCG')\n",
            "Hirschberg: (0, '-T-G\\nATCG')\n"
          ]
        }
      ]
    },
    {
      "cell_type": "code",
      "source": [
        "# Test 2\n",
        "s = 'TAGATA'\n",
        "t = 'GTAGGCTTAAGGTTA'\n",
        "# (Score, Alignment)\n",
        "print(f\"Needleman-Wunsch: {needleman_wunsch(s, t, delta)}\")\n",
        "print(f\"Hirschberg: {hirschberg(s, t, delta)}\")"
      ],
      "metadata": {
        "colab": {
          "base_uri": "https://localhost:8080/"
        },
        "id": "EQYDlg_WExnJ",
        "outputId": "23e7c03d-a378-47e6-a4e4-c62237cd0190"
      },
      "execution_count": 42,
      "outputs": [
        {
          "output_type": "stream",
          "name": "stdout",
          "text": [
            "Needleman-Wunsch: (-3, '-TA-G----A---TA\\nGTAGGCTTAAGGTTA')\n",
            "Hirschberg: (-3, '-TA-G----A---TA\\nGTAGGCTTAAGGTTA')\n"
          ]
        }
      ]
    },
    {
      "cell_type": "markdown",
      "source": [
        "## Bacterial Sequences"
      ],
      "metadata": {
        "id": "Yhw1_9PJFRmK"
      }
    },
    {
      "cell_type": "code",
      "source": [
        "# Instructions:\n",
        "# Download human_mitochondrion.txt and rickettsiales_bacterium_excerpt.txt from Github\n",
        "# Upload them into the Google Colab environment\n",
        "\n",
        "# NCBI Sources:\n",
        "# Mitochondrion: https://www.ncbi.nlm.nih.gov/nuccore/NC_012920.1?report=fasta\n",
        "# Rickettsiales bacteria: https://www.ncbi.nlm.nih.gov/datasets/genome/GCA_024304995.1/\n",
        "\n",
        "# Read the files\n",
        "mito = \"\"\n",
        "with open(\"human_mitochondrion.txt\", \"r\") as file:\n",
        "  arr = file.readlines()\n",
        "  # Remove the first line\n",
        "  arr.pop(0)\n",
        "  # Add each line and remove the new line character\n",
        "  for line in arr:\n",
        "    mito += line.replace(\"\\n\", \"\")\n",
        "\n",
        "ricket = \"\"\n",
        "with open(\"rickettsiales_bacterium_excerpt.txt\", \"r\") as file:\n",
        "  arr = file.readlines()\n",
        "  # Remove the first line\n",
        "  arr.pop(0)\n",
        "  # Add each line and remove the new line character\n",
        "  for line in arr:\n",
        "    ricket += line.replace(\"\\n\", \"\")"
      ],
      "metadata": {
        "id": "MTBF0jV9FU3A"
      },
      "execution_count": 43,
      "outputs": []
    },
    {
      "cell_type": "code",
      "source": [
        "# Align the sequences\n",
        "# First 100\n",
        "print(f\"Needleman-Wunsch:\\n {needleman_wunsch(mito[:100], ricket[:100], delta)}\")\n",
        "print(f\"Hirschberg:\\n {hirschberg(mito[:100], ricket[:100], delta)}\")"
      ],
      "metadata": {
        "colab": {
          "base_uri": "https://localhost:8080/"
        },
        "id": "EMeHpxL5PHwe",
        "outputId": "c501ff4d-87e1-46e6-b09e-70179b923a88"
      },
      "execution_count": 44,
      "outputs": [
        {
          "output_type": "stream",
          "name": "stdout",
          "text": [
            "Needleman-Wunsch:\n",
            " (-4, '-------GA-TCACAGGTCTA-TCACCCTA-TTAACCACTCACGGGAGCT-CTCCATGCAT-TTGGTATT--T---T-CGTCTGGGGGGTATGCACGCGATA-GC-ATTGCGAGACGCTG\\nCTGGGGGGAGTCA-GGGTGGAGTCA----AGGT-GGGGCGCAC--GAACTCCCCCCT-CATATT--TATTACTGAATACGT-TGAACTTTAT-TATG-AATATTCTA-TGC-TGA--C--')\n",
            "Hirschberg:\n",
            " (-4, '-------GA-TCACAGGTCTA-TCACCCTA-TTAACCACTCACGGGAGCT-CTCCATGCAT-TTGGTATT--T---T-CGTCTGGGGGGTATGCACGCGATA-GC-ATTGCGAGACGCTG\\nCTGGGGGGAGTCAG-GGTGGAGTCA----AGGTGGGG-CGCACGA-A-CTCCCCCCT-CATATT--TATTACTGAATACGT-TGAACTTTATT-ATGA-ATATTCTAT-GCT-GAC----')\n"
          ]
        }
      ]
    },
    {
      "cell_type": "code",
      "source": [
        "# First 1000\n",
        "print(f\"Needleman-Wunsch:\\n {needleman_wunsch(mito[:1000], ricket[:1000], delta)}\")\n",
        "print(f\"Hirschberg:\\n {hirschberg(mito[:1000], ricket[:1000], delta)}\")"
      ],
      "metadata": {
        "colab": {
          "base_uri": "https://localhost:8080/"
        },
        "id": "B-1GmI3SPceF",
        "outputId": "0debba6a-e816-44b5-b1ed-5f82bd5f54e0"
      },
      "execution_count": 45,
      "outputs": [
        {
          "output_type": "stream",
          "name": "stdout",
          "text": [
            "Needleman-Wunsch:\n",
            " (15, '-------GA-TCACAGGTCTA-TCACCCTA-TTAACCACTCACGGGAGCT-CTCCATGCAT-TTGGTATT--T---T-CGTCTGGGGGGTATGCACGCGATA-GC-AT--TG-C---GAGAC---GC-TG--GAGC-C-GGAGC--AC-CCT-ATG----TC-GCAGTATCTGTCTTTGATT--CC---TG-CCTCATCCTATTA-TTTATC-GCACCTAC-GTTCAATATTACA---G---G-C-GAACATACTTACTAAAG--TGTGT-T-AATTAATTAA--T-GCT-TGTAGGACAT-AATAATAACA-ATTGAATGTCTGCA-CAGC-CACTTTCCACACAGACATCATAACAAAAAATTTCCACCAAACCCCCCCTCCCCCGCTTCTGGCCACAGC---ACTTAAACACATCTC-TGCCA-AACCCCAAAAACAAAGAACCCTAACACCAG-CCTAACCAGAT-TTCAAATT-T-TATCTTTTGGCGGTATGCACT-TTTA-ACAG--TCA-CCCCCCAAC-TAACACATTATT-TTC-CCCTC-CCACT--C-C---CA-TACTACTAATC---TCA--TCA-ATACA-ACCCCCGCC-CA--TCCTAC-CCAGCACACACACACCG-CTGCTAACCCCATACCCCGA--ACCAACCAA-ACCCCAAAGACACCCCCCACA-GTTTATGTAGCTTA-CCTCCTCAAAGCAATACACTGAAAATGTTTAGACGGGCTCACATCACCCCATAAACAAATAGGTT-TGGTCCTAGCCTTTCTATTAGCTCT-TAGTAAGATTACACATGCAAGCATCCCCGTTCCA-GTGAGTTCACCCT-CTAAATCACCACGATCAAAAGGAACAAG-CATCAAGCACGCAG-CA-ATGC-AGC-TC-AAAAC-GCTTAGCCTAGCCACACCCCCACGGGA--A-ACAGCAGTGATTAACCTTTAGCAAT-A-AACGAAAGTTTAACTAAG-CTATACTAACCCCAG-G-GTTGGTCAATTTCG--TGCCA-G-C--C-------ACC-GCGGTCACACGAT-TAACCCAAGTCAATAGAAGC-CG-GCGT-AAAGAGTGTTTTAGATCACCC-C--C-TC--C-CCAAT-AA-AGC-T-AAAAC-TCACCTGAGTTGTAAAAAACT\\nCTGGGGGGAGTCA-GGGTGGAGTCA----AGGT-GGGGCGCAC--GAACTCCCCCCT-CATATT--TATTACTGAATACGT-TGAACTTTAT-TATG-AATATTCTATGCTGACTTAGTGACGGGGCGTGATAACCTCAGAAGCATACGTTTGATGTAAATCAACAGGA-CTG-C-GT-ATTCGCCAAATGTCC-C-TCC-ACGACTATGTCGGGA-GGGCGGTGGAATATAACACCGGCTTGCCGGAA-ATACAT-CGCGGGCCGGTTTCTGGCTTTATCAACCTCCCTCTCTA-G-C-TGAGT-TTGGGATTTTG-GTG-CTGGATTAGCGC-CTATGTGTTTTGACGT-ATTGC-TCTTATTT-CA-TAGA-TACTCCTTTTCCGGTT-T-GCAACTGCTGTA-TTATTC-CA-C-CGTGCGATGA---C---ATC--A-CTCTCT-TC-GGGGTCGTAAGC-G-TCTT---ATTGTGCAT-GATT--CGG--T-CACTGCTTACGCCGCATTATGGGCACTACATAACAAAGGGTTGTGCTTCCTCACGACTAGCGCGGTCAGT-CT-CTTTTCGGTTCATTTCAGA-ACAGA-GAGCGCCGCAGGGAGTTCGCC-G-A-AGTCACA-GGTC-CCT-TCGCC-T-TCGCGAGGGCGGA-TAACACACC---GGTTGCCCGGA-ATG-TTATTTCGGTTAGGCT-GTC---GC---A-GC-G-----G-TT-G-C--G--CGCGT--CGCC-T-----TATA--TTCT-G--CAAGCCTTTC-ATTA--T-TGTAGT-AGA--A-GGGT-AAATCAT--CC-TTCCACATG-GAT-AACATGAT-GATGGCCA-GTTTACGTGCTAC-CGCCACCTTG-GCGCGGTTATATCCTACCTTCTTGGACAGCTT-GGTTCCCCATGCTTTTA-GGGAGGAGA-AGC--T-A-T-GCGTAT-G-AGTGAGGATGACA--TTGGC--GGCCTGTACGAGGTGC-GTGCG-T-GTC-ATTT-GATTGCCACGACAACTGATTTTACCAACCGTCTC-CG-TCTCACCGGACT-GATAG-A-CTCGTG-GTGTCAGACCGAAGTA-AGCACCCACATCTTCTACTCGGTTGAACCGCTTCGGGTCTTCA-ATG-GCGGTATAGAA-T')\n",
            "Hirschberg:\n",
            " (15, '-------GA-TCACAGGTCTA-TCACCCTA-TTAACCACTCACGGGAGCT-CTCCATGCAT-TTGGTATT--T---T-CGTCTGGGGGGTATGCACGCGATA-GC-AT--TG-C---GAGAC---GC-TG--GAGC-C-GGAGC--AC-CCT-ATG----TC-GCAGTATCTGTCTTTGATT--CC---TG-CCTCATCCTATTA-TTTATC-GCACCTAC-GTTCAATATTACA---G---G-C-GAACATAC-TTAC-TAAAGTGTGT-T-AATTAATTAA--T-GCT-TGTAGGACAT-AATAATAACA-ATTGAATGTCTGCA-CAGC-CACT-T-TCCACACAGACATCATAACAAAAAATTTCCACCA-A-ACCCCCCCTCCCCCGCTTCTGGCCACAGC---ACTTAAACACATCTC-TGCCA-AACCCCAAAAACAAAGAACCCTAACACCAG-CCTAACCAGAT-TTCAAATT-T-TATCTTTTGGCGGTATGCACT-TTTA-ACAG--TCA-CCCCCCAAC-TAACACA---TTAT-TTTCCCCTC-CCACT--C-C---CA-TACTACTAATC---TCA--TCA-ATAC--A-ACCCCCGC--CCA-TCCTAC-CCAGCACACACA-CACCGCTGCTAACCCCATACCCCGA--ACCAACCAA-ACCCCAAAGACACCCCCCACA-GTTTATGTAGCTTA-CCTCCTCAAAGCAATACACTGAAAATGTTTAGACGGGCTCACATCACCCCATAAACAAATAGGTT-TGGTCCTAGCCTTTCTATTAGCTCT-TAGT--AAGATTACACATGCAAGCATCCCCGTTCCA-GTGAGTTCACCCT-CTAAATCACCACGATCAAAAGGAACAAG-CATCAAGCACGCAG-CA-ATGC-AGC-TC-AAAAC-GCTTAG--CCTAGCCACACCCCCACGGGA--A-ACAGCAGTGATTAACCTTTAGCAAT-A-AACGAAAGTTTAACTAAG-CTATACTAACCCCAG-G-GTTGGTCAATTTCG--TGCCA-G-C--C-------ACC-GCGGTCACACGAT-TAACCCAAGTCAATAGAAGC-CGGCGTAAAGAGTGTTTTAGATCACCC-C--C-TC--C-CCAAT-AA-AGC-T-AAAAC-TCACCTGAGTTGTAAAAAACT\\nCTGGGGGGAGTCAG-GGTGGAGTCA----AGGTGGGG-CGCACGA-A-CTCCCCCCT-CATATT--TATTACTGAATACGT-TGAACTTTATT-ATGA-ATATTCTATGCTGACTTAGTGACGGGGCGTGATAACCTCAGAAGCATACGTTTGATGTAAATCAACAGGA-CTG-CGT--ATTCGCCAAATGTCC-C-TCC-ACGACTATGTCGGGAGGG-CGGTGGAATATAACACCGGCTTGCCGGAA-ATACATCGCGGGCCG-GTTTCTGGCTTTATCAACCTCCCTCTCTAG--C-TGAGTT-TGGGATTTTGG-TG-CTGGATTAGCGC-CTATGTGTTTT--GACGT-ATTGCTCTTA-TTTC-AT-AGATACTCCTTTTCCG--G-TT-TG-CAACTGCTGTA-TTATTC-CA-C-CGTGCGATGACATCA----CT-----CTCTT-CGGG-GTCGTAAGC-G-TCTT-A--TTGTGCATGATT---CGGT---CACTGCTTACGCCGCATTATGGGCACTACATAACAAAGGGTTGTGCTTCC--TCACGACTAGCGCGGTCAGT-CT-CTTTTCGGTTCATTTCAGA-ACAGAGAGCGCCGCAGGGAGT--T-CGCC-GAAGTCACAGGTCC-CT--T--CGCCTT-CGC-GAGGGCGGAT-AACACACCG--GTTGCCCGG-A-ATGTT-ATTTCGGTTAGGCTG-TC---GCAG--C---G-----GTT--G-CGCGCG----TCGCCT--TA------TA--TTCTG--CA-AGCCTTTC-ATTA--T-TGTAGTAGAAGGGTA-A-AT-CA----TCC---TTCCACATG-GATAACA-TGATGA-TGGCCA-GTTTACGTGCTACC-GCCACCTTGG-CGCGGTTATATCCTACCTTCTTGGACAGCTTGGTTCC---CCATGCTTTTA-GGGAGGAGA-AGC--T-ATG--CGTAT-G-AGTGAGGATGACA-TTGG-CG--GCCTGTACGAGGTGC-GTGCGT-G-TCA-TTT-GATTGCCACGACAACTGATTTTACCAACCGTCTC-CG-TCTCACCGGACTGA-TAGACTCGTGGTGTCA-GACCGAAGTA-AGCACCCACATCTTCTACTCGGTTGAACCGCTTCGGGTCTTCAA-TG-GCGGTATAGAA-T')\n"
          ]
        }
      ]
    },
    {
      "cell_type": "markdown",
      "source": [
        "## Eukaryotic Sequences"
      ],
      "metadata": {
        "id": "9dy8uKEsUKe8"
      }
    },
    {
      "cell_type": "code",
      "source": [
        "# Instructions:\n",
        "# Download human_mitochondrion.txt and rickettsiales_bacterium_excerpt.txt from Github\n",
        "# Upload them into the Google Colab environment\n",
        "\n",
        "# NCBI Sources:\n",
        "# TP53: https://www.ncbi.nlm.nih.gov/gene/7157\n",
        "# Telomerase reverse transcriptase (TERT): https://www.ncbi.nlm.nih.gov/gene/7015\n",
        "\n",
        "# Read the files\n",
        "tp53 = \"\"\n",
        "with open(\"human_tp53.txt\", \"r\") as file:\n",
        "  arr = file.readlines()\n",
        "  # Remove the first line\n",
        "  arr.pop(0)\n",
        "  # Add each line and remove the new line character\n",
        "  for line in arr:\n",
        "    tp53 += line.replace(\"\\n\", \"\")\n",
        "\n",
        "tert = \"\"\n",
        "with open(\"human_tert.txt\", \"r\") as file:\n",
        "  arr = file.readlines()\n",
        "  # Remove the first line\n",
        "  arr.pop(0)\n",
        "  # Add each line and remove the new line character\n",
        "  for line in arr:\n",
        "    tert += line.replace(\"\\n\", \"\")\n",
        "\n",
        "# Print lengths\n",
        "print(len(tp53))\n",
        "print(len(tert))"
      ],
      "metadata": {
        "colab": {
          "base_uri": "https://localhost:8080/"
        },
        "id": "PE3F2jDUUV22",
        "outputId": "2ec305c8-998e-4923-8124-281e9d2caf2a"
      },
      "execution_count": 46,
      "outputs": [
        {
          "output_type": "stream",
          "name": "stdout",
          "text": [
            "19070\n",
            "41902\n"
          ]
        }
      ]
    },
    {
      "cell_type": "code",
      "source": [
        "# Align the sequences\n",
        "# First 500\n",
        "print(f\"Needleman-Wunsch:\\n {needleman_wunsch(tp53[:500], tert[:500], delta)}\")\n",
        "print(f\"Hirschberg:\\n {hirschberg(tp53[:500], tert[:500], delta)}\")"
      ],
      "metadata": {
        "colab": {
          "base_uri": "https://localhost:8080/"
        },
        "id": "qrfotZAGUuUI",
        "outputId": "a2ca34ed-7b8d-4610-9c1c-c65a2b460a4c"
      },
      "execution_count": 47,
      "outputs": [
        {
          "output_type": "stream",
          "name": "stdout",
          "text": [
            "Needleman-Wunsch:\n",
            " (34, 'CTCAAAAGT-CTAGAGCCAC-CG-TCCAGG--GAGCAG-GTAGCTGCTGGGCTCCG-GGGACACTTTGCGTTCGGGCTGGGAGCGTGCTTTCCACGACGGTG--ACACGCT-TCC-CTG--GATTG-GGTAAGCT-CCTGACTGAACTTGATGAGTCCTCT-CTGAGTCACGG-GCT--CTC-GGCTC-CGTGTATTTTCAGC-TC-GGGAAAATCGCTGGGGCTGG-GGGTGGGGCA--GTGGGGACTTAGCGAG-TTT--G-G-G--GGT-G---AGTG---GGATG-G-AAG-CTTGGCTA-G-A-GG--GATCATCATAG-----GAGTT--G-CATTGTTGGG-AGACCTGGGTGT-AG-AT---GATGGGGATGTTAGGACCATCC-----GAACTCAAAGTTGA-ACGCCTAG-GCAGAGGAGTG-GAGCTTTGGG-GAACCTTGAGCCGGCCTAAAGCGTACTTCTTTGCACATCCACCCGGT-G-CTG-G-GC-GTAG-GGAATCCCTGAAATAAAAGATGCACAAAGCATTGAGGT-CTGAGACTTTTGG-ATCTCGAAACATTGA-GAA\\nCTC-----TCCTCGCGGCGCGAGTTTCAGGCAGCGCTGCGT-CCTGCTGCGC-ACGTGGGA-A----GC---C---CTGGCCCCG-GCCACCCCCG-CGATGCCGCGCGCTCCCCGCTGCCGA--GCCGTGCGCTCCCTG-CTG--C--G--CAG-CCACTACCGCG--A-GGTGCTGCCGCTGGC-CACGT-T-CGTGCGGCGCCTGGG----GCCCCAGGGCTGGCGGCTGGTGCAGCGCGGGGACCCGGCG-GCTTTCCGCGCGCTGGTGGCCCAGTGCCTGG-TGTGCGTGCCCTGG-GACGCACGGCCGCCCCCCGCCGCCCCCTCCTTCCGCCA--GGTGGGCCTCCCCGGG-GTCGGCGTCCGGCTGGGG-T-TGAGG-GCGGCCGGGGGGAAC-C--AG-CGACATGCGGAGAGCAGCGCAG-GCGA-CTCAGGGCG---CTT---CC-CCCGCAGGTGTCCTGC-CTG-A-A-GGAGCTGGTGGCCCGAGTGCTGCAGAGG-----CTG-TGCGAGCGCGGCGCGAAG-A---ACGTGCTG-G-CCTTCGGCTTCGCGCTGC-TGGACG-G')\n",
            "Hirschberg:\n",
            " (34, 'CTCAAAAGTCTAGAGC-C-ACCG-TCCAGG--GAGCAG-GTAGCTGCTGGGCTCCG-GGGACACTTTGCGTTCGGGCTGGGAGCGTGCTTTCCACGACGGTG--ACACGCT-TCC-CTG--GATTG-GGTAAGCT-CCTGACTGAACTTGATGAGTCCTCT-CTGAGTCACGG-GCT--CTC-GGCTC-CGTGTATTTTCAGC-TC-GGGAAAATCGCTGGGGCTGG-GGGTGGGGCA--GTGGGGACTTAGCGAG-TTT--G-G-G--GGT-G---AGTG---GG-ATG-GAAG-CTTGGCTA-G-A-GG--GATCATCATAG-----GAGTT--G-CATTGTTGGG--AGACCTGGGT-GTAGAT---GATGGGGATGTTAGGACCATCC-----GAACTCAAAGTTGA-ACGCCTAG-GCAGAGGAGTG-GAGCTTTGGG-G--AACCTTG-A---G-CCGGCCTAAAGCGTA-CTTCTTTGCAC-A-TCCACCCG-GTGCTGGGCGTAG-G-GAATCCCTGAAATAAAAGATGCACAAAGCATT-GAG-GTCTGAGACTTTTGGATCTCGAAACATTGAGAA\\nCTCTCC--TCGCG-GCGCGA--GTTTCAGGCAGCGCTGCGTC-CTGCTGCGCAC-GTGGGA-A----GC---C---CTGGCCCCG-GCCACCCCCG-CGATGCCGCGCGCTCCCCGCTGCCGA--GCCGTGCGCTCCCTG-CTG--C--GC--AG-CCACTACCGCG--A-GGTGCTGCCGCTGGC-CACGT-TCGTG-CGGCGCCTGGGGCC--C-CAGGG-CTGGCGGCTGGTGCAGCGCGGGGACCCGGCG-GCTTTCCGCGCGCTGGTGGCCCAGTGCCTGGTGTGCGT-GCCCTGGG-ACGCACGGCCGCCCCCCGCCGCCCCCTCCTTCCGCCAG-GT-GGGCCTCCCCGGGGTCGGCG-TCCGGCTGGGGTTG--AGGGCGG-CCGGGGGGAAC-CA--GC-GACATGCGGAGAGCAGCGCAG-GCGA-CTCAGGGCGCTTCCCCCGCAGGTGTCCTGCCTGAAG-G-AGCTGGTG-GCCCGAGTGCTGCAGAG-GCTGTGCG-AGCGCGG--CGC-GAAG-AAC-G-TGCTG---GCCTTCG-GCTTC-GCG-CT---G---CTGGA--C---G-G--')\n"
          ]
        }
      ]
    },
    {
      "cell_type": "code",
      "source": [
        "# Align the sequences\n",
        "# Takeaway: Same sequences, but different alignments also possible depending on implementation\n",
        "# First 5000\n",
        "print(f\"Needleman-Wunsch:\\n {needleman_wunsch(tp53[:5000], tert[:5000], delta)}\")\n",
        "print(f\"Hirschberg:\\n {hirschberg(tp53[:5000], tert[:5000], delta)}\")"
      ],
      "metadata": {
        "colab": {
          "base_uri": "https://localhost:8080/"
        },
        "id": "ADW5i11hVkch",
        "outputId": "8895516a-98b1-45f3-88b9-70fbdeabbb32"
      },
      "execution_count": 48,
      "outputs": [
        {
          "output_type": "stream",
          "name": "stdout",
          "text": [
            "Needleman-Wunsch:\n",
            " (248, 'CTCAAAAGT-CTAGAGCCAC-CG-TCCAGG--GAGCAG-GTAGCTGCTGGGCTCCG-GGGACACTTTGCGTTCGGGCTGGGAGCGTGCTTTCCACGACGGTG--ACACGCT-TCC-CTG--GATTG-GGTAAGCT-CCTGACTGAACTTGATGAGTCCTCT-CTGAGTCACGG-GCT--CTC-GGCTC-CGTGTATTTTCAGC-TC-GGGAAAATCGCTGGGGCTGG-GGGTGGGGCA--GTGGGGACTTAGCGAG-TTT--G-G-G--GGT-G---AGTG---GGATG-G-AAG-CTTGGCTA-G-A-GG--GATCATCATAG-----GAGTT--G-CATTGTTGGG-AGACCTGGGTGT-AG-AT---GATGGGGATGTTAGGACCATCC-----GAACTCAAAGTTGA-ACGCCTAG-GCAGAGGAGTG-GAGCTTTGGG-G--AACCTTG-A---G-CCGGCCTAAAGCGTA-CTTCTTTGCAC-A-TCCACCCG-GTGCTGGGCGTAGGGAATCCCTGAAATAAAAGATGCACAAAGCATT-GAG-GTCTGAGACTTTTGGATCTCGAAACATTGAGAACTCATAGCTGTA-TATTTTA-GAGCC--CATG-GCATCCTA-GTG-AAAACTGGGGCTCCATTCCGAAATGATCATTTG-GGGGTGATC----CG-GGGAGC-CCAAGCTGCTAAG-GT--CCCACAAC-TTCCGG---ACCT-TTGTC-CTTCCTGGAGCGATCTTTCCAG-GCAGCCCCCGGCTCCGCTAGATGGAGAAAATCCA-AT-TGAAGGCTGTCAGTCGTGGA--AG-T-GAGAAG-TGCTAAAC-CAGG---GGTTTGCCCGCCAGGC-CGAGGAGGACCGTCGCAA----TCT--GA---G-A--GGCCCGGCAGCCCT---GTTA---TTGTTTGGCTCCACATTTACATTTCTGCCTC--TTGCAGCAGCATTTC-CGGTTTCTTTTTGCC-GGAGCAG-CT-CACTATTCACCCGATGA-G---AGG-G-GAG-G-AG----AGAG--AGAGAAAATGTCCTTTAGGC-CGGTTCCT---CTTA-CTTGGCA-GA-GGGAGG-CTGCTATTCTCCGCCTGCATTTCTTTTTCTGGAT-T-ACTTAGTTATG-GCCTTTGCA-AAGGCA-------GG-GGTATTTG-T-TTTGATGCAAAC-CTCAATCCCTCCCCTTCTTTGAATGGTG-TGCC-CCACCCCGCGGG-TCGCC-TGCAACCTAGGCGGACGCTACCATGGCGTGAGACAGGGAGGGAAAGAAGTGTGCAGAAGGCAAGCCCGGAGGTATTTTCAAGAATGAGTA-TATCTCATCTTC-CCGGAGG-AAAAAAAAAAAGAATG-GGTACGT-C-TGAGAATCAAAT-TTTGAAAGAGTGCA--ATGA-TGG-G-TCGTTTGATAATTTGTCGGAAAAACAATCTACCT-GTTATCTA-GCTTTGG--GCTA-GG-C-CATTC-CA-GTT--CCAGAC-G---CAG-G---CT-G--AA--C-G-TCGTGAAGC-GGAAGGGGC--GGG---C-C-CGCAG-G--CGT-CCGTGTGGTCCTC----CG---TG-CAGC--C---CTCCGG----CCC-G-AGCCGGT-TCT-T-CCTGGTAGGAG--GC-GGAACTC-GAAT-TCATTTCTCCCGCTGCCCCA--TCTCTTA-GCTCG-CGGTTGTTTCA--T--TCCG-CAGTTTCTTC-CCATGCACCT-GC-CGCGTACCGGCCACTTTGTGC---CGTACTTACGTCATCT--TTTTCCTA--AATC-GAGG-T---GGCATTTAC--ACACAGC--GC-CAGTGCACA-C-AGCAAGTGCA-----C--AGGAAG-ATG---AGTTTTGGCCCCTAACCGCT-CCGT-GATGCCT-ACCAAGT-C---ACAGACCCTTTTCATCGTCCCA-GA-AAC-GTTTCATCACGTCTCTTCCCAGTCGA-TTCCCGACCCCACCTTTATTTTGATCTCCATAACCATTTTGCCTGTTGGAGAACTTCATATAGAATGGAATCAGGCTGGGCGCT-GTGGCTCAC-G---CC-T-G-CACTTTGGG-AGGC-CGAGGC---GGGCGGATTAC-TTGA--GGATA-GGAGTTC-CAGACCAGCGTGGC-CAACGTGGTGAATCCCCGTCT-CTACTAAAAAATACAAAAATT-AGCTGGGCG---TGGTGGGTGC-CTGTAATCCCA-GCTATTCG-GG--AG-G--GTGAGGCAGGAGAATCGCTTGAACCCGGGAG-GCAG--AGGTT----GCAGT-GAGCCAAG-ATC--G-TGC-CACTACACTCCAGC-CTGG-G-C-GACAAG--AACGA-AACTCCGTC-T--CAAAAAAAAGGG-GGGAATCATACAT---TATGTG---CTCAT-TT--T---TGTCGG-GCT-TCTGTCCTT-CA-ATGTAC-T-GTCTGAC-AT-T-C--GTTCATGTTGT-ATATATCAGTATTTTGCTCCTTTTCATTTA-GTATAGT--C-CATCGATTGTATAT-CC-GTC-CTTT-TGATGGCCTTTTG-AGTTGTTTC-CC--A--TTTGCG-GTTATGA-A--A---T-A--AAGC-TGCT-ATAAACAT-TCTTGTAC----AATTC---TTTTTG-TGATCAT-AT-GT-T-TTCGTGT--T------T-CTTGGAGAAATACTTAGG-AGG-GGA--A-TTG----C--GAGTTTGGAAG-TAAAAAGT-AGCTG-TATTTTG-AACTTTTTCAGAAGCTCTGAGTTTTCCAGAGCG---GT-TGTACCATTTTACACTCCAACTAGCAAGGTATGGGAGTTATTATGGTTGTGCC---ACAGCCT-----TCCGGACATTAG-GTATTGT-CAGTCTTTCTA-AT-GTGGT-ATATCCTTGT-GGT-TGTAATTTACAGTTCTCTAT-TGA-CTA-AGGA-TGTTCAGCATTTTTTCA--TG-TGCCTATTGGCCATTCGTATTTTGTTTG-T-AAAGTA-GCT-CTTC-GAGTCTTTTACC-TGT---TATTTTGGTTTTT-TGTTTGTTTTTATTGTTCAGTTGTGGGA-CT--GCTTTA--TACATTCTGGATACAAGTCCTTTATCAGATCC-A-TGTGTC-G-T-GAATGTTTTCTTCTGATCTGTTGCTTGCCTATTTGTTTGCTTTACAGAGTTTACAGTATCTTAAGAGGA-GT-GGATTTATCTTTTTTATGTTCAGTA-TTTG-CCTTGTCCTGT-TTAGGACATCTTTTTTTT-TTTTTTTAACCCCA-GG-GTCATGAAG--ATATTATC-TTACATT--TTCTTTTAGGACC-TTTAT-GGTTGTA-AGTTTTACAGTAA--GGT-CCTTGAGC---CATTA-ATTA-ATT-CTTAAAATTAAT-TGTTTATGGTGTGAGGTGTAGGAGTCAGTCTCTGGTATCTTTCCTGTATGGAAATCCAGTTATTCTGTCTC-CACTTGTTG-AAAT-AGGCT--TCCTTTCTCTACTGAATGCTTTTAATTTTAAT-TATTTTACAGTTGGAGTATAGGGCTACCATTTTAGTGCT--A--TT--TTC-TT--TTTTTCTTTGTTAATT-TTTGAGACAGGGACTC-ACACTG---TTGCCCAG-GCT-AGAGTACA-AT--GG-CACAA--T---CAAGGCTTACTGCA--GCCTCGAACCCCTGGGCTCAAGCAGTCCTCTAG-CAGCCT-CACGAGT-AGCTG-GG-ATTACTCCACCA---CACCCAGCTAACTATTTTATTTTTTTGTATTGACAGGATCTCACTATGTTG-CCCAGGCTGGTCTCAAACTGCTGGCC-T-CAAGCTTTCATCCCA--TCTCGGCCTCCCAAAGTG---CTG-GGATTACA-GGT--GTGAGCCACCAT-GCC---TGACCTCT-T-A-GTGCTATTTTCTATTTA---TC--TCCTC-TGT-TCTCTGCTCTC-TTTAAACGTTGGAG-GAAGAAACAGTACCCATCT-TACACAAACTCTTCAGAAAACAGAGGAACAGACTG-GGCGCGGT----GGCTCATACCTGTAATC-TCAGCACTTTG-GT-ACGC-TGAG--GCAGGG-GAT-CAT-T----TG-AGGTCGGGAGTTCGAGACCAGCCTGGCCAACACGGCGAAACCCCATCTCTACTAAAAATACAAAAAGT-AGCT-AGGCGTGGTGACACATACC-TGTAATGCCAGTTAC-T-CAGGAG-G-CTGAGGCACAAGAATCCCT---TGAACCTGGGAAGCGGAGGTTGCAGTGAGCCG-AGATTGCGCC-ACTG-CACTC-CAGCCTG--GGCAACAGAGTGAGACCCTGTCTCAGAAAAAAAAAG-AAAGAAAGAAAAAATAGAGGAATATTTCCCAACTTGTTTTCGAAGCCAGCATAATCCT-GGT-ACCAAAACCAAACAAGG-ACATTATAAGAAAAGAAAATATAGACC-AATATTCCTGTTA---GCA---T-AGACATGCAACAGCTAACCAATTTTAGCAAACCAAACCTGGTAATATAGAAAAAAGGATAAAT-AGGC-CAGTCGCGGTGGCTCACGCCTGTAATCCC-AGCACTTTG-G-GAGGCTGAGG----CAGGCAGATCACT-TGAGGT-CAGGAGT--TTGAGACCAGCCTGACCAACATGGTGAAACCCCGTTTCTAATAAAAATACAAAAATCAGGCTG-GGCACGGTGGCTCACGCC-TGTAATCCCAG-CACTTTGGGAGGCCGAG-GTGG-GCAGATCACGAGGTCAGGAGTTCAAGACCAGCCTGACCAATGTG-GTGAAACGC--CATCTCTACTAAAAAT-ACAAAAAT-CAGCCGGTGTG-GTGGCAC-CT-GCC-TGTAATCCCAG-CTAC-T-CAGGAG-G-CTGAGGCAG-AAT---TGCTTGAACCC-GGGA-G-GCAGAGGTTGCAGTGAGCCAAGAT---C--GTG-CCACTG-CAC-TCCAGCCTG-G-GCGACA-GAG--CAAGACT-T-CATCTCAAAAAAAAAAAAAAATTAGCTG-GGCA-TG-----GTGGTGGGCACCTGAAATCCCAGCTACTC-GGGAGTCTGAGGCAG-GAG-AATCGCTTGAACC---CA-G-G-AGGCAGAAGT--TGCACTG-AGCTGGGATCACACCAT-TGCAC-TCCAGCCTG-G-GCA-ACAG-AGT----GAGACTCCATCTCAAAAAAAGAAAAAGAAAAAGGATAAAT-ACATTCTA-ACCAAATAATGT--TTATCTCATG-ATTGT-AGCTGATTCAACATTCAAAAAT-TGGCCTG----GTGCA--GT-AGCTCAGGC-CTGTAATCCCAACAT-T---T-T-A-G-G-AGGCTGAG-GCAGGAAGATCTCTTGAGCCCAGGATTTCAAGACCAG-C-CTGGGCAACAT-AGTCAGACTGGTCTTTACTGGGGGGAAAAAAATCA-G-TCTGTGTAATTCA-CCACATTAACAAAGGGAAACATAAAAACCCTATGATCATTTCAACAGATGTAG-CAAAAGCAGT----TAATGAT-A-T-TCAACACATATGCATGATTACAAACCAACCAACCTCCTAGCAAACTAGGGAAAGGAAACT-TAAC--CTAGTTTGA-TAACAGG-GCGTCCACAGTCGGAGT-TCCACTAG-CAGCATACATAATG-GTAGAAAACTCAGTGCTGCCGGGCG-CGGTGGCTCACGCCT\\nCTC-----TCCTCGCGGCGCGAGTTTCAGGCAGCGCTGCGT-CCTGCTGCGC-ACGTGGGA-A----GC---C---CTGGCCCCG-GCCACCCCCG-CGATGCCGCGCGCTCCCCGCTGCCGA--GCCGTGCGCTCCCTG-CTG--C--G--CAG-CCACTACCGCG--A-GGTGCTGCCGCTGGC-CACGT-T-CGTGCGGCGCCTGGG----GCCCCAGGGCTGGCGGCTGGTGCAGCGCGGGGACCCGGCG-GCTTTCCGCGCGCTGGTGGCCCAGTGCCTGG-TGTGCGTGCCCTGG-GACGCACGGCCGCCCCCCGCCGCCCCCTCCTTCCGCCA--GGTGGGCCTCCCCGGG-GTCGGCGTCCGGCTGGGG-T-TGAGG-GCGGCCGGGGGGAAC-C--AG-CGACATGCGGAGAGCAGCGCAG-GCGA-CTCAGGGCGCTTCCCCCGCAGGTGTCCTGCCTGAAG-G-AGC-TGGTGGCCCGAGTGCTGCAGAG-GCTGTGCG-AGCGCGGCGC-G-AA-GAACG-TG--C-TGGCCTTCG-GCTTC-GCG-CTGCTGGA-C-GGGGCCCGCGGGGGC-C-CCCCCG-AGGCCTTCACCA-CCAGCGTGCGCA-GCTACCTGCCCAAC-ACGG-T-GA--CCG--ACG--CA-CTGCGGGG-GAGCGGGGCGTGGGGGCTGC-TGCTGCGCCGCGTGGGCGACGACGTGCTGGTTCACCTGCTGGCAC--GCT-GCGCGCTCTTT---GTGCTG---GTGGCTCC-C-AGCT-GCGCCTA-CCAGGTGTGCGGGCCG-CCG-C-TGTACCAGCTCG-G-CGCTGC--CACTCAGGCCCGG--CCCCCGCCACACGCTA-GTGGACC-CCG-AAGGCGTCTGGGATGCGAACGGGCCTGG-AACCATAGCGTCAGGGAGGCCGGGGTCCCCCTGGGCCTGCCAGCCCCGGGTGC-G-AGGA-GGCGCGGGGGC--AGTGCCAGCCGAAGTCTGC-C-GTT-GCCC-AAGAGGCCCAGGCGTG-GCGCTGCCCCTGAGCCGGAGCGGACGCCCGTTGGGCAGGGGTCCTGGGCCCACCCGGGCAGGACGCGTGGAC--CGAGTGACCG--TG-GTTTC--TGTGTGG-TGTCACCT-GCCA-GACCCGCCGAAGAAGCCACCTCTTTGGAGG-GTGCGCTCTCTG--GCACGCGC-CACTCCC-ACCCATC--CG--TGG-GCCGCCAGCACCACGCGGGCCCCCCAT-CCACAT-CGCGG-C-C-ACCA---CGT--CCCTGGGA---CACGCCTTGT-C------C---CCCGG-TGTA-CGCCGAGACCAAGCACT-TC-C-TCTACTCCTCAGGCGACAAGGAGCAG-CTGCGG-CCCTCCTTCCTACTCAGCTCTCTG--AG-GCCCAGCCTGACTGGCGCTCG---GA-GGCTCGT-GG--AGACCATCTTTCTGGGT-TCCAGGCCCTGGATGCCAGGGACTC-CCCGCAGGTTGCCCCGCCTGCCCCAGCGCTACTGGCAAATGCGGCCCCTGTTTCTGG-AGCTGCTTGGGAACCACGCGCAGTGCCCCTACGGGGTGCTCCTCAAGACGCACTGCCCGCTGCGAGCTGCGGTCACCCCAGCAGCCGGTGTCTGTGCCCGGGAGAAGCCCCAGG-GCTCTG--TGGC--GGCCCCCG-AGGAGGAGGACACAGACCCCCGTCGCCTGGTGCAGCTGCTCCGCCAG---C-ACAGCA-GCCCCTGGCAGGTGTA-CGG---CTTCGTGCGGGCCTGCCTGCGCCGGCTGGTGCCCCCAGGCCTCTGGGGCTCCAGGCA-CAACGAACGCCGCTTCCTCAG-GAACACCAAG-AAGTTCATCTCCCTGGGGAAGCATGCCAAGCTCTCGCTGC-AGGAGCTGACGTGGAAG-ATGAGC--GTGCGGGACTG-CGCTTGGC-T-G-CGCAGGAGCCCAG-GTGAGGAGGT-GGTGGCC-GTCGAGGGCCC-AGGCC-CC---A----GA---GC-TGA--A---TG-CAGTAGG-G-GC-TCAGA-A-AA-GGGGGCAGGCAGAGCCCTGGT-CCTC-CTGTCTCCATCGTCAC-GTGGGCA--CACGTGGCTTTTCGCTCAGGACGTCGAGTGGACACGGTGATCTCTG-CC-TC-T-GCTCTCCCTCCTG--T-CCAGTTTGC-A-T-AAACTTAC-GAGGTTCACCTTCACGTTTTGATGGACACGCGGT--TTCCAGGC--GCCGAGGCCAGAGCAGTGA-ACA-GAGGA-GGC-TGGGCGCGGCAGTGGAGCCGGGTTGCCGGCAATGGGGAGAAGTGTCTGGAAGCACA-GACGCTCTGGCGAGGGTGCCTG-CAGGTTACCTATAA-TCC-TCTTCGCAATTTCAAGGGTGGGAATGAGAGGTGGGGACGAGAACCCCCTCTTCCTGGGGGTGGGAGGTAAGGGT-TTTGCAGGTGCACGTGGTCAGCCAATATGCAGGTTTGTGTT-TAAGAT-TTA--ATTGTG-T-GTTGACGGCCAGGTGCGGTGGCTCA-CGCCGGTA-ATCCCAG-CACTTTGGGA-AG-CTGAGGCAGGTGGATCACCTGAGGTCAG-GAGTT-TGAGACCAGCCTGACCAA-CATGGTGA-AACCCTATC-TGTACTAAAAATACAAAAATTAGCTGGGCATGGTGGTGTGTGCCTGTAATCCCAGCTACTTGG-G--AGGCTGAGGCAGGAGAATCACTTGAACCCAGGAG-GCGGAGGCT--GCAGTGAGCTGAGATTGTGCCA-TTGTACTCCAGC-CTG-GGCGACAAGAGTGAAACTCTGT--C--TTTA-A----AA--A--AA---AAAAGTGTTCGT-TGATTGTGCCAGGACAGGGTAGAGGGAGGGAGATAAGACTGTTCTCCAG-C--AC-AGATCCTGGTCCCAT-CTT-TAGGTATG-AA--GA-GGGCCAC-ATGGGAGC-AGAGGACAG--CAG-ATGGCTCCACCTGCTGAGGAAGGGACAGT-GT-TTGTGGGTGTTCAGGGGATGGTGCTGCTG-GGC-CCTGCCGTGTCCCCACCCT-GTTTTTCTG---G---AT-TTGAT--GTTGAGGAACCTCCGCTCCAGCCCCCTTTTGGCTCCCAGTGC--TCCCAGGCCCTACCGTGGCAGCTAGAA-GAAGTC--CCGA--T-TT-C--ACC-----CCCT-CCCCACA-A----AC----TCCCAAGA-CATGTAAGA-CT-TC-CGGCCATG--CAG-ACAAGGAGGGTGACCT-TCTTGGGGC-TCTTTTTTTTCTTTTTTTCTTTTTATGGTGGCA-AAAGTCATA-TAACATGAGATTGGCACTCCTAACACCGTTT-TCTG-TGTACAG---TGCAG-AATTGCTAACTCG-GCGGTGTTTACAGCAGGTTGCTTGAAA-TGCTGCGTCT-T-GCGTGA---CT-GGA---AGTC-C--CTA-C---CC---ATCG-AA--C-GGCA-GCTGCCTCACACCTGCTGCGGCTCAGG-TGGACC--ACGC--C-GAGT-CAGATAAGCGTCATGCA--ACCCAGTT----T-T---GCT----TTTT-GTGCTCCAGCTTCCTTCGTTGAGGAGAGTTTG--AGTTCTCTGA-TCA-GGACTCTGC-CTGTCATTG--CTGTTCTCTGACTTCAGATGAGGTCACAATCTGCCCCTGGCTTA-TGCAGGGAGT-G-AGGCGTGGTCCCCGGGTGTCC-CT-GTCA-CGTGCA-GGGTGAG-TGAGGCGTTGC-CC-CCAGGTGTCCCTG-TCAC--GTGTA---GGGTG-AGTG--AGG----CGC---G--GCCCCCGGGT-GTC-C---CTG-T-CCCGTGC-AGC-GTGAT-TGAGGTGT-GGCC-CCC-GGGTGTCCCTGTCCCGTGCAGGGTGAGTGAGGCACTGTCCCCGGGTGTCC-CTGTCACGTGC-AGGGT-GAGTGAGGCGCGGTCCCCGGGTGTCCCTG-TCACGTGT--AGGGT-GAGTG-AGGCACTGTCCCCGGGTGT-C-C---CTC-TCAG-GTGTAG-GG---TGAGTGAGGCGCCGTCCCCGGGT-GTCCCTGTCA-CGT--GTAGGGTGAGTGAGGCGTG-GTCCCCGGGTG-TCCCTGTCCCGTGCAGG--GTGAG-T-GAG-GC-G-CTGTCC--C-CGG-G-TGTCCC-TGTC-AC-----GTGC--AGGGTGAG-TGAGGCGCGGT--C-C---CCGGGT-GTCCCTGTCACGTGTAGG-GTGAGTGAGGCAC-CG--TCCCTGGGTGTCCCTCCCAGGTGTAGGGTG-AGTGAGGCGCTG--T-CCCCGGGTGTCCCTCTCAG-GTGTAGG---GTGAGTGAGGCGCGGCCCCAG-GTGTCCCTGTCACG--TG------TAG-GG------T---GA---G---T-G-AGGCACCGT--CCCTGGGTGTCC--CTCC---C-AGGTATAGGGTGAG-TGAGGCACTGT-CCCCGGGTGTCCCTGTCACGTGCAGGGTGAGTGAGGC-GC-GGT-CCCCA-GGT-G----TC---CCT-GTCACGT-G----TAGGGTGAGTGAGGCACTGTCCCCG-GG-TGTC-CCTG---TCCCGTGCAGGGTGAGTGAGGC-GCGGTCCCCAGG-TG-TCCCTGTCCCGTGCAGG-GTGAGTGAG-GC-GCC-GTCC--CCGGGTG---TCCC-TGTC------ACGTGC-AGGGTGA-G-TGAGGCAC---GGC-C-C-CCGGGT-GTCCCTGTCAC-GT-GCAGGGTGAGTGAGGCGCGGCCCCCG-GGT-----GTCCCTG-TCA-CGTG--CAGGGTGAGTGAGGCGCGGC-CCCCGGGTGTCCCTGTC--ACGTGCAG--GGTGAGTGAGGCGCGGTCCCCGGGT-GTCCCTGTC-ACGTGCAGG-GTGAGTGAGGC-GCGGTCCCCGGGTG-TCCCTGTCACGTGCAG-GG-TG-AGTGAGGCGCGGTCCCCGGGTGTCC-CTGTCACGTGCAGGGTGAGTGAGGCACG-GTCCCCGGGTGTCCCTGTC-----CCGTGTAGGGTGAG-TGAGGCACTGTCCCCG-GGT-GTC-CCTG---TCAC-G-T--TCAGGGTGAGTGAGGC-GCG-GTCCCCGGGTGTCCCTGTCACGTGTAGGGTG-AGTGAGGCACCGTCCCCGGG-TGTC-CC-TGT-CACGTGCAGGGTGAGTG-AGGC-GCTGTCCCCGGGTGTCCCTGTC-----ACG----TG---CAGGGTGATTGAC--GCGAGGCCCCCGGGTGTCCCTGTCACGTGCAGGGTGAG-TGAGGCGCCGTCCCCGCGTGT-CCCTGTCACGTGCAGGGTGAG-TGAGGCGCCG---TCCCCGGGTGTCCCTGTCACGTGTAGGGTGAGTG-AGG-TG--C-C--G-TCCCCGGGTGTC----CCTGTCAC-GTGTAGGGTGAGTGAGGC--G-CCGTCCCCGGGTG-TCCCTGTCACGTTCAGGGTGAGTGAGGCAC--GGCCCCCGGG-----T---GTCCC--TG-TCACGTGTA-GGGTG-AGTGAGGCGCGGTCCCCGGGTG-TCACTGTC-ACGTGTA-GGGTGAGT--GAGGC-A-C--TGTCC---C---C--GGG---TGTCCCTGTCACGTGTAGGGTGAGT--GAGGCGCGGCC-C--CCGG-GTGTCC-CT-GTCA-CGTGCAGGGTGAGT-G-AGGCGC-G-GCCCCCGGGTGTCCCT-G-TCACG--T')\n",
            "Hirschberg:\n",
            " (248, 'CTCAAAAGTCTAGAGC-C-ACCG-TCCAGG--GAGCAG-GTAGCTGCTGGGCTCCG-GGGACACTTTGCGTTCGGGCTGGGAGCGTGCTTTCCACGACGGTG--ACACGCT-TCC-CTG--GATTG-GGTAAGCT-CCTGACTGAACTTGATGAGTCCTCT-CTGAGTCACGG-GCT--CTC-GGCTC-CGTGTATTTTCAGC-TC-GGGAAAATCGCTGGGGCTGG-GGGTGGGGCA--GTGGGGACTTAGCGAG-TTT--G-G-G--GGT-G---AGTG---GG-ATG-GAAG-CTTGGCTA-G-A-GG--GATCATCATAG-----GAGTT--G-CATTGTTGGG--AGACCTGGGT-GTAGAT---GATGGGGATGTTAGGACCATCC-----GAACTCAAAGTTGA-ACGCCTAG-GCAGAGGAGTG-GAGCTTTGGG-G--AACCTTG-A---G-CCGGCCTAAAGCGTA-CTTCTTTGCAC-A-TCCACCCG-GTGCTGGGCGTAG-G-GAATCCCTGAAATAAAAGATGCACAAAGCATT-GAG-GTCTGAGACTTTTGGATCTCGAAACATTGAGAACTCATAGCTGTA-TATTTTA-GAGCC--CATG-GCA--T-CCTAG-TGAAAACTGGGGCTCCATTCCGAAATGATCATTTG-GGGGTGATC----CG-GGGAGC-CCAAGCTGCTAAG-GT--CCCACAAC-TTCCGG---ACCT-TTGTC-CTTCCTGGAGCGATCTTTCCAG-GCAGCCCCCGGCTCCGCTAGATGGAGAAAATCCA-AT-TGAAGGCTGTCAGTCGTGGA--AG-T-GAGAAG-TGCTAAAC-CAGG---GGTTTGCCCGCCAGGC-CGAGGAGGACCGTCGCAA----TCT--GA---G-A--GGCCCGG---C--AGC-CCTGTTATTGTTTGGCTCCACATTTACATTTCTGCCTC--TTGCAGCAGCATTTC-CGGTTTCTTTTTGCC-G--GAGCAG-CT-CAC-TATTCACC-CGATG---AGAG-G-GGAG--G----AGAG-AGAGAGAAAATGTCCTTTAGGC-CGGTTCCT---CTTA-CTTGGCA-GA-GGGAGG-CTGCTATTCTCCGCCTGCATTTCTTTTTCTGGAT-T-ACTTAGTTATG-GCCTTTGCA-AAGGCA-------GG-GGTATTTG-T-TTTGATGCAAAC-CTCAATCCCTCCCCTTCTTTGAATGGTG-TGCC-CCACCCCGCGGG-TCGCC-TGCAACCTAGGCGGACGCTACCATGGCGTGAGACAGGGAGGGAAAGAAGTGTGCAGAAGGCAAGCCCGGAGGTATTTTCAAGA--ATGAGTA-TAT-CTC-ATCTTCC-C-GGAGGAAAAAAAAAAAGAATG-GG---TACGT-CTGAGAATCAAAT-TTTGAAAGAGTGCA--ATGA-TGG-G-TCGTTTGATAATTTGTCGGAAAAACAATCTACCT-GTTATCTA-GCTTTGG--GCTA-GG-C-CATTC-CA-GTT--CCAGAC-G---CAG-G---CT-G--AA--C-G-TCGTGAAGC-GGAAGGGGC--GGG---C-C-CGCAG-G--CGT-CCGTGTGGTCCTC----CG---TG-CAGC--C---CTCCGG----CCC-G-AGCCGGT-TCT-T-CCTGGTAGGAG--GC-GGAACTC-GAAT-TCATTTCTCCC--GCTGCCCCATCTCTTA-GCTCG-CGGTTGTTTCA--T--TCCG-CAGTTTCTTC-CCATGCACCT-GC-CGCGTACCGGCCAC-TTTGTGCCGTACTTACGTCATCT--TTTTCCTA--AATC-GAGG-T---GGCATTTAC--ACACAGC--GC-CAGTGCACA-C-AGCAAGTGCA-----C--AGGAAG-ATG---AGTTTTGGCCCCTA--ACCGCT-CCGT-GATGCCT-ACCAAGT-C---ACAGACCCTTTTCATCGTCCCA-GA-AAC-GTTTCATCACGTCTCTTCCCAGTCGA-TTCCCGACCCCACCTTTATTTTGATCTCCATAACCATTTTGCCTGTTGGAGAACTTCATATAGAATGGAATCAGGCTGGGCGCT-GTGGCTCAC-G---CC-T-G-CACTTTGGG-AGGC-CGAGGC---GGGCGGATTAC-TTGA--GGATA-GGAGTTC-CAGAC-CAGCGTGGCCAACGTGGTGAATCCCCGTCT-CTACTAAAAAATACAAAAATT-AGCTGGGCG---TGGTGGGTGC-CTGTAATCCCA-GCTATTCG-GG--AG-G--GTGAGGCAGGAGAATCGCTTGAAC-C--C-G-GGAGGCAGAGGTT----GC-A--GTGAGCCAAG-ATC--G-TGC-CACTACACTCCAGC-CTGG-G-C-GACAAG--AACGA-AACTCCGTC-T--CAAAAAAAAGGG-GGGAATCATACAT---TATGTG---CTCAT-TT--T---TGTCGG-GCT-TCTGTCCTT-CA-ATGTAC-T-GTCTGAC-AT-T-C--GTTCATGTTGT-ATATATCAGTATTTTGCTCCTTTTCATTTA-GTATAGT--C-CATCGATTGTATAT-CC-GTC-CTTT-TGATGGCCTTTTG-AGTTGTTTC-CC--A--TTTGCG-GTTATGA-A--A---T-A--AAGC-TGCT-ATAAACAT-TCTTGTAC----AATTC---TTTTTG-TGATCAT-AT-GT-T-TTCGTGT--T------T-CTTGGAGAAATACTTAGG-AGG-GGA--A-TTG----C--GAGTTTGGAAG-TAAAAAGT-AGCTG-TATTTTG-AACTT-T-TTCAGAAGCTCTGAGTTTTCCAGAGCG---GT-TGTACCATTTTACACTCCAACTAGCAAGGTATGGGAGTTATTATGGTTGTGCC---ACAGCCT-----TCCGGACATTAG-GTATTGT-CAGTCTTTCTA-AT-GTGGT-ATATCCTTGT-GGT-TGTAATTTACAGTTCTCTAT-TGA-CTA-AGGA-TGTTCAGCATTTTTTCA--TG-TGCCTATTGGCCATTCGTATTTTGTTTG-T-AAAGTA-GCT-CTTC-GAGTCTTTTACC-TGT---TATTTTGGTTTTT-TGTTTGTTTTTATTGTTCAGTTGTGGGA-CT--GCTTTA--TACATTCTGGATACAAGTCCTTTATCAGATCC-A-TGTGTC-G-T-GAATGTTTTCTTCTGATCTGTTGCTTGCCTATTTGTTTGCTTTACAGAGTTTACAGTATCTTAAGAGGA-GT-GGATTTATCTTTTTTATGTTCAG--TATTTGCCTTGTCCTGT-TTAGGACATCTTTTTTTT-TTTTTTTAACCCCA-GG-GTCATGAAG--ATATTATC-TTACATT--TTCTTTTAGGACC--TTTATGGTTGTA-AGTTTTACAGTAA--GGT-CCTTGAGC---CATTA-ATTA-ATT-CTTAAAATTAAT-TGTTTATGGTGTGAGGTGTAGGAGTCAGTCTCTGGTATCTTTCCTGTATGGAAATCCAGTTATTCTGTCTC-CACTTGTTG-AAAT-AGGCT--TCCTTTCTCTACTGAATGCTTTTAATTTTAAT-TATTTTACAGTTGGAGTATAGGGCTACCATTTTAGTGCT--A--TT--TTC-TT--TTTTTCTTTGTTAATT-TTTGAGACAGGGACTC-ACACTG---TTGCCCAG-GCT-AGAGTACA-AT--GG-CACAA--T---CAAGGCTTACTGCA--GCCTCGAACCCCTGGGCTCAAGCAGTCCTCTAG-CAGCCT-CACGAGT-AGCTG-GG-ATTACTCCACCA---CACCCAGCTAACTATTTTATTTTTTTGTATTGACAGGATCTCACTATGTTG-CCCAGGCTGGTCTCAAACTGCTGGCC-T-CAAGCTTTCATCCCA--TCTCGGCCTCCCAAAGTG---CTG---GGATTACA-GGT--GTGAGCCACCAT-GCC---TGACCTCT-T-A-GTGCTATTTTCTATTTA---TC--TCCTC-TGT-TCTCTGCTCTC-TTTAAACGTTGGAG-GAAGAAACAGTACCCATCT-TACACAAACTCTTCAGAAAACAGAGGAACAGACTG-GGCGCGGT----GGCTCATACCTGTAATC-TCAGCACTTTG-GT-ACGC-TGAG--GCAGGG-GAT-CAT-T----TG-AGGTCGGGAGTTCGAGACCAGCCTGGCCAACACGGCGAAACCCCATCTCTACTAAAAATACAAAAAGT-AGCT-AGGCGTGGTGACACATACC-TGTAATGCCAGTTAC-T-CA-GGAG-GCTGAGGCACAAGAATCCCT---TGAACCTGGGAAGCGGAGGTTGCAGTGAGCCG-AGATTGCGCC-ACTG-CACTC-CA-GCCT-GGGCAACAGAGTGAGACCCTGTCTCAGAAAAAAAAAG-AAAGAAAGAAAAAATAGAGGAATATTTCCCAACTTGTTTTCGAAGCCAGCATAATCCT-GGT-ACCAAAACCAAACAAGG-ACATTATAAGAAAAGAAAATATAGACC-AATATTCCTGTTA---GCA---T-AGACATGCAACAGCTAACCAATTTTAGCAAACCAAACCTGGT-A-ATATAGAAAAAAGGATAAAT-AGGC-CAGT-CGC-GGTGGCTCACGCCTGTAATCCC-AGCACTTTG-G-GAGGCTGAGG----CAGGCAGATCACT-TGAGGT-CAGGAGT--TTGAGACCAGCCTGACCAACATGGTGAAACCCCGTTTCTAATAAAAATACAAAAATCAGGCTG-GGCACGGTGGCTCACGCC-TGTAATCCCAG-CACTTTGGGAGGCCGAG-GTGG-GCAGATCACGAG-GTCAGGAGTTCAAGACCAGCCTGACCAATGTG-GTGAAACGCC--ATCTCTACTAAAAATACAAAAAT-CAGCCGGTGTG-GTGGCAC-CT-GCC-TGTAATCCCAG-CTAC-T-CA-GGAG-GCTGAGGC-AGAAT---TGCTTGAACCC-GGGA-G-GCAGAGGTTGCAGTGA-GC-CAAGAT---C--GTG-CCACTG-CAC-TCCAGCCTG-G-GCGACA-GAG--CAAGACT-T-CATCTCAAAAAAAAAAAAAAATTAGCTG-GGCA-TG-----GTGGTGGGCACCTGAAATCCCAGCTACTCGG-GAGTCTGAGGCAG-GAG-AATCGCTTGAACC---CA-G-G-AGGCAGAAGT--TGCACTG-AGCTGGGATCACACCAT-TGCAC-TCCAGCCTG-G-GCA-ACAG-AGT----GAGACTCCATCTCAAAAAAAGAAAAAGAAAAAGGATAAAT-ACATTCTA-ACCAAATAATGT--TTATCTCATG-ATTGT-AGCTGATTCAACATTCAAAAAT-TGGCCTG----GTGCA--GT-AGCTCAGGC-CTGTAATCCCAACAT-T---T-T-A-G-G-AGGCTGAG-GCAGGAAGATCTCTTGAGCCCAGGATTTCAAGACCAG-C-CTGGGCAACAT-AGTCAGACTG--GTCTTTACTGGGGGGAAAAAAATCA-G-TCTGTGTAATTCA-CCACATTAACAAAGGGAAACATAAAAACCCTATGATCATTTCA-ACAGA-TGTA-GCAAAAGCAGT----TAATGAT-A-T-TCAACACATATGCATGATTACAAACCAACCAACCTCCTAGCAAACTAGGGAAAGGAAACT-TAAC--CTAGTTTGA-TAACAGG-GCGTCCACAGTCGGAGT-TCCACTAG-CAGCATACATAATG-GTAGAAAACTCAGTGCTGCCGGGCG-CGGTGGCTCACGCCT\\nCTCTCC--TCGCG-GCGCGA--GTTTCAGGCAGCGCTGCGTC-CTGCTGCGCAC-GTGGGA-A----GC---C---CTGGCCCCG-GCCACCCCCG-CGATGCCGCGCGCTCCCCGCTGCCGA--GCCGTGCGCTCCCTG-CTG--C--GC--AG-CCACTACCGCG--A-GGTGCTGCCGCTGGC-CACGT-TCGTG-CGGCGCCTGGGGCC--C-CAGGG-CTGGCGGCTGGTGCAGCGCGGGGACCCGGCG-GCTTTCCGCGCGCTGGTGGCCCAGTGCCTGGTGTGCGT-GCCCTGGG-ACGCACGGCCGCCCCCCGCCGCCCCCTCCTTCCGCCAG-GT-GGGCCTCCCCGGGGTCGGCG-TCCGGCTGGGGTTG--AGGGCGG-CCGGGGGGAAC-CA--GC-GACATGCGGAGAGCAGCGCAG-GCGA-CTCAGGGCGCTTCCCCCGCAGGTGTCCTGCCTGAAG-G-AGCTGGTG-GCCCGAGTGCTGCAGAG-GCTGTGCG-AGCGCGG--CGC-GAAG-AAC-G-TGCTG---GCCTTCG-GCTTC-GCG-CTGCTGGA-CGGGGCCCGCGGGGGCCCCCC--C-G-AGGCCTTCACCA-CCAGCGTGCGCAGCTACCT-GCCCAACAC-GGTG----A--CCGAC--G--CACT-GCGGGG-GAGCGGGGCGTGGGGGCTGCT-GCTGCGCCGCGTGGGCGACGACGTGCTGGTTCACCTGCTGGCACG-C-TGC-GCGCTCTTT---GTGCTGGT---GGCTCC-C-AGCTGC-GCCTA-CCAGGTGTGCGGGCCGCC-G-C-TGTACCAGCTCG-GC-GCTGCCA--CTCAGGCCCGGCC--CCCGCCACACGCTAGT-GGACCC-CG-AAGGCGTCTGGGATGCGAACGGGCCTGGAACCATAGCGTCAGGGAG-GCCGGGGTCCCCCTGGGCCTGCCAGCCCCGGGTGC-G-AGGAGG-CGCGGGGGCAGT--GCCAGCCGA--AGTCTGC-CGT-TGC-CCAAGAGGCCCAG-GCGTGGCGCTGCCCCTGAGCCG-GAGCGGACGCCCGTTGGGCAGGGGTCCTGGGCCCACCCGGGCAGGACGCGTGGACCG--AGTGACCG--TGG-TTTCTGTGT--GG-TGTCACCT-GCCA-GACCCGCCGAAGAAGCCACCTCTTTGGAGGG-TGCGCTCTCTG--GCACGCGC-CACTCCCACCCATCC---G--TGG-GCCGCCAGCACCACGCGGGCCCCCCATCCA-CATCG-CGG-C-C-ACCA---CGTCC--CTGGGAC--AC-GCCTTGT-C------C---CCCGGTG-TACGC-CGAGACCA--AGCACT-TCCTCTA-CT-CCTCAGGCG-ACAAGGAGCA-GC-TGCGGCCCTCCTTCCT-AC--TCAGCTCTCTGA--G-GCCCAGCCTGACTGGCGCTCG---GAGGCTC-GT-GGAGAC-CA-TCTTTCTGGGT-TCCAGGCCCTGGATGCCAGGGACTCCC-CGCAGGTTGCCCCGCCTGCCCCAGCGCTACTGGCAAATGCGGCCCCTGTTTCTGGA-GCTGCTTGGGAACCACGCGCAGTGCCCCTACGGGGTGCTCCTCAAGACGCACTGCCCGCTGCGAGCTGCGGTCACCCCAGCAGCCGGTGTCTGTGCCCGGGAGAAGCCCCAGGG-CTCTG--TGGCGGC-C-CCCGAGGAGGAGGA-CACAGACCCCCGTCGCCTGGTGCAGCTGCTCCGCCAG---CA-CAGCA-GCCCCTGGCAGGTGTAC-GGCTTCGTGCGGGCC-TGCCTGCGCCGGCTGGTGCCCCCAGGCCTCTGGGGCTCCAGGCACA-ACGAACGCCGCTTCCTCAG-GAACACCAAG-AAGTTCATCTCCCTGGGGAAGCATGCCAAGCTCTCGCTGC-AGGA--GCTGACGTGGAAGA-TGAGC--GTGCGGGACTG-CGCTTGGC-T-G-CGCAGGAGCCCAGGTG-AGGAGGTGG-TGGCC-GTCGAGGGCCC-AGGCC-CC---A----GAGCTG-A-A----T---GCA-GTAGGGG--CT-CAGA-A-AAGGGGG-CAGGCAGAGCCCTGGTC-CTC-CTGTCTCCATCGTCACGT-GGGCA--CACGTGGCTTTTCGCTCAGGACGTCGAGTGGACACGGTGATCTCTGCCTCTGC-TCTCC--C-TCCTG--TCCA-GTTTGC-A-TAAACT-TACGAGG-TTCACCTTCACGTTTTGATGGACACGCGGTT-TCC-AGGCGC--CGAGGCCAGAGCAGTGAA-CAG-AGGAG-GCTGGG-CGCGGCAGTGGAGCC-G-GGTTGCCGGCAATGGGGAG--AAGTGTCTGGAAGCACAG-ACGCTCTGGCGAGGGTGCCTG-CAGGTTACCTATAA-TCC-TCTTCGCAATTTCAAGGGTGGGAATGAGAGGTGGGGACGAGAACCCCCTCTTCCTGGGGGTGGGAGGTAAGGGTT-TTGCAGGTGCACGTGGTCAGCCAATATGCAGGTTTGTGTT-TAAGATTT-A--ATTGTG-TG-TTGACGGCCAGGTGCGGTGGCTCA-CGCCGGTA-ATCCCAG-CACTTTGGGAAG-C-TGAGGCAGGTGGATCACCTGAGGTCAG-GAGTT-TGAGACCAGCCTGACCAA-CATGGTGA-AACCCTATCT-GTACTAAAAATACAAAAATTAGCTGGGCATGGTGGTGTGTGCCTGTAATCCCAGCTACTTGG-GAGG--CTGAGGCAGGAGAATCACTTGAACCCAGGAGGC-GGAGGCTGCA--GTGAGCTGAGATTGTGCCA-TTGTACTCC-A-GC-CTGGGCGA-CAAGAGTGAAACTCTGT-C--TTTAAAAAA--AA--A--AAG-T--G----TTCGT-TGATTGTGCCAGGACAGGGTAGAGGGAGGGAGATAAGACTGTTCTCCAG-CA--C-AGATCCTGGTCCCATC-TT-TAGGTATG-AAG--AGGGC-CAC-ATGGGAGC-AGAGGACAG--CAG-ATGGCTCCACCTGCTGAGGAAGGGACAGT-GT-TTGTGGGTGTTCAGGGGATGGTGCTGCTGGGCCCTG--CCGTGTCCCCACCCTG-TTTTTCTG---GATTTGAT-GTTGAG--GA---ACCTCCGCTCCAGCCCCCTTTTGGCTCCCAGTGCTCC--CAGGCCCTACCGTGGCAGCTAGAA-GAAGTCC-C-GAT-T-TCACCC-CCTCCC------C---ACA-A----AC--TCCC--AAGAC-ATGTAAGACTTC-CGGCC--ATG--CAGACAAGGAGGGT-GACCT-TCTTGGGGC-TCTTTTTTTTCTTTTTTTCTTTTTATGGTGGCAA-AAGTCATATAA-CATGAGATTGGCACTCCTAACACCGTTTTCTG-T-GTACAGTG---CAG-AATTGCTAACTCG-GCGGTGTTTACAGCAGGTTGCTTGAAATGC-TGCGTCT-TGC-GTGAC-TGGA--AGTC---C-CT---A-C---CC---ATCGAACGGCAG-----CTGCCTCACACCTGCTGCGGCTCAGG-TGGACCA--CGC--C-GAGT-CAGATAAGCGTCATGCAACC--CAGTT----T-T-G--CT----TTTT-GTGCTCCAGCTTCCTTCGTTGAGGAGAGTTTG--AGTTCTCTGAT-CAGG-ACTCTGC-CTGTCATTGCT--GTTCTCTGACTTCAGATGAGGTCACAATCTGCCCCTGGCTTA-TGCAGGGAGT-GAGGCG-TGGTCCCCGGGTGTCC-CT-GTCA-CGTGCAGG-GTGAG-TGAGGCGTTGC-CC-CCAGGTGTCCCTG-TCACG-TGT-AGGGT---G-AGTGA--GG--CGC-----G--GCCCCCGGGTG-TC-C---CTG-TC-CCGTGCA-GCGTG-ATTG-AGGTGT-GGCC-CCCGG-GTGTCCCTGTCCCG-TG-CAGGGTGAGTGAGGCACTGTCCCCGGGTGTCC-CTGTCACGTGC-AGGGTG-AGTGAGGCGCGGTCCCCGGGTGTCCCTG-TCACGTGTAGG-GT-G-AGTGAGGCA-CTGTCCCCGGGTGT-C-C---CTCT-CAGGTGT-AG-GGTG-AG--TGAGGCGCCGTCCCCGGGTG-TCCCTGTCA-CGT--GTAGGGTGAGTGAGGCGTG-GTCCCCGGGTG-TCCCTGTCCCGTGCAGG--GTGAGT--GAGGC--GC-TGTCC--C-CGG-GTGTCCC--TGTC-ACG-----TGCAGG--GTGAG-TGAGGCGCGGT--C-C---CCGGGTG-TCCCTGTCACGTGTAGGGTGAG-TGAGGCACC-G--TCCCTGGGTGTCCCTCCCAGGTGTAGGGTG-AGTGAGGCGCTG-TC-C-CCGGGTGTCCCTCTCAGGTGTAGGGT----GAGTGAGGCGCGGCCCCAGGTGTCCCT-GTCACGT--G------TAG-GG--TG------A----GT----GAGGC-ACCGTC--CCTGGGTGTCCCT--CC---CA-GGTATAGGGTGAGTGAGGCAC-TGTCC-CCGGGTGTCCCTGTCACGTGCAGGGTGAGTGAGGCG-CGG-TCCCCAGGTGT--C---CC-----TG-TCACGTGTAG------GG-TGAGTGAGGCACTGTCCCCGGGTG--TC-C-C-TGT---CCCGTGCAGGGTGAGTGAGGC-GCGGTCCCCAGGT-G-TCCCTGTCCCGTGCAGG-GTGAGTGAGGC--GCC-GTCCC-CG-GGTGT--CCCTGT--C-ACG-----TGCAGGG-TGAG--TGAGGCACGG---C-C-C-CCGGGTG-TCCCTGTCACGT-GC-AGGGTGAGTGAGGCGCGGCCCCCGGGTGTCCCT-GT-CACGTGCAGGGTGAGTGAGGCGCG-GCC-C-CCGGGTGTCC-CTG----T-CACG--TGCAG--GGTGAGTGAGGCGCGGTCCCCGGGTG-TCCCTGTC-ACGTGCAGGGTGAG-TGAGGCGCGG-TCCCCGGGTGT-CCCTGTCACGTGCAG-GGT-G-AGTGAGGCGCG-G-TCCCCGGGTGTCC-CTGTCACGTGCAGGGTGAGTGAGGCACG-GTCCCCGGGTGTCCCTGTCCCGTGTAGGG-----TGAG-TGAGGCACTGTCCCCG-GGTGT-C-CCTG---TCAC-GTT-CAGGGTGAGT--GAGGC-GCG-GTCCCCGGGTGTCCCTGTCACGTGTAGGGTGA-GTGAGGCACCGTCCCCGGG-TGTC-CC-TGT-CACGTGCAGGGTGAGTG-AGGC-GCTGTCCCCGGGTGTCCCTGTCACGT---GCA---G-----GG-TGATTGACG--CGAGGCCCCCGGGTGTCCCTGTCACGTGCAGGGTGAG-TGAGGCGCCGTCCCCGCGTGTC-CCTGTCACGTGCAGGGTGAG-TGAGGCGCCGTC--CCCGGG-TGTCCCTGTCACGTGTAGGGTGAGTG-AGGT-G--C-CGTC--CCCGGG-TGTC----CCTGTCAC-GTGTAGGGTGAGTGAGGC-GCCGTCCC--C-GGGTGTCCCTG--TCACGTTCAGGGTGAGTGAGGCACGGCCCCC--GGGTG---T-----CCCTGTCA-CGTGT-AGGGTGAGTG-AGGC----GCGGTCCCCGGGTG-TCACTGTCA-CGTGTAGGG-TGAGTG-AGGC-A-CTG---TCC---C---C--GGGT--GTCC-CTGTCACGTGTAGGGTGAGTGA--GGCGCGGCCCC---CGG-GTGTCC-CT-GTCA-CGTGCAGGGTGAGT-GAGG-CGC-G-GCCCCCGGGTGTCCCTG--TCACG--T')\n"
          ]
        }
      ]
    },
    {
      "cell_type": "markdown",
      "source": [
        "# Visualization"
      ],
      "metadata": {
        "id": "xrN8nmYPOEsH"
      }
    },
    {
      "cell_type": "code",
      "source": [
        "!pip install memory-profiler"
      ],
      "metadata": {
        "id": "byrweAmIkwf2",
        "colab": {
          "base_uri": "https://localhost:8080/"
        },
        "outputId": "f1b57e62-3325-48d1-cb48-f666a3267e91"
      },
      "execution_count": 11,
      "outputs": [
        {
          "output_type": "stream",
          "name": "stdout",
          "text": [
            "Requirement already satisfied: memory-profiler in /usr/local/lib/python3.10/dist-packages (0.61.0)\n",
            "Requirement already satisfied: psutil in /usr/local/lib/python3.10/dist-packages (from memory-profiler) (5.9.5)\n"
          ]
        }
      ]
    },
    {
      "cell_type": "code",
      "source": [
        "%load_ext memory_profiler\n",
        "from memory_profiler import profile"
      ],
      "metadata": {
        "id": "RF13j9qQk5m2"
      },
      "execution_count": 12,
      "outputs": []
    },
    {
      "cell_type": "code",
      "source": [
        "chars = ['A', 'G', 'C', 'T']\n",
        "sequence_lengths, needleman_wunsch_memory, hirschberg_memory = [], [], []\n",
        "\n",
        "for i in range(0, 5501, 500):\n",
        "    seq1 = ''.join(np.random.choice(chars) for _ in range(i))\n",
        "    seq2 = ''.join(np.random.choice(chars) for _ in range(i))\n",
        "\n",
        "    print(i)\n",
        "\n",
        "    b = %memit -o pass\n",
        "    x = %memit -o needleman_wunsch(seq1, seq2, delta)\n",
        "    y = %memit -o hirschberg(seq1, seq2, delta)\n",
        "\n",
        "    sequence_lengths.append(i)\n",
        "    needleman_wunsch_memory.append(x.mem_usage[0] - b.baseline)\n",
        "    hirschberg_memory.append(y.mem_usage[0] - b.baseline)"
      ],
      "metadata": {
        "colab": {
          "base_uri": "https://localhost:8080/"
        },
        "id": "P_vrBdUlqyZ1",
        "outputId": "f98922a1-da15-4e99-8ade-5740d851ea52"
      },
      "execution_count": 14,
      "outputs": [
        {
          "output_type": "stream",
          "name": "stdout",
          "text": [
            "0\n",
            "peak memory: 141.34 MiB, increment: 0.00 MiB\n",
            "peak memory: 141.45 MiB, increment: 0.00 MiB\n",
            "peak memory: 141.45 MiB, increment: 0.00 MiB\n",
            "500\n",
            "peak memory: 141.71 MiB, increment: 0.00 MiB\n",
            "peak memory: 150.77 MiB, increment: 8.99 MiB\n",
            "peak memory: 148.23 MiB, increment: 0.06 MiB\n",
            "1000\n",
            "peak memory: 148.24 MiB, increment: 0.00 MiB\n",
            "peak memory: 178.84 MiB, increment: 30.59 MiB\n",
            "peak memory: 157.59 MiB, increment: 4.48 MiB\n",
            "1500\n",
            "peak memory: 153.31 MiB, increment: 0.00 MiB\n",
            "peak memory: 224.25 MiB, increment: 70.94 MiB\n",
            "peak memory: 172.38 MiB, increment: 13.28 MiB\n",
            "2000\n",
            "peak memory: 158.23 MiB, increment: 0.00 MiB\n",
            "peak memory: 286.48 MiB, increment: 128.24 MiB\n",
            "peak memory: 190.91 MiB, increment: 9.03 MiB\n",
            "2500\n",
            "peak memory: 180.92 MiB, increment: 0.00 MiB\n",
            "peak memory: 369.02 MiB, increment: 188.10 MiB\n",
            "peak memory: 219.16 MiB, increment: 26.52 MiB\n",
            "3000\n",
            "peak memory: 191.84 MiB, increment: 0.00 MiB\n",
            "peak memory: 481.62 MiB, increment: 289.79 MiB\n",
            "peak memory: 255.62 MiB, increment: 50.68 MiB\n",
            "3500\n",
            "peak memory: 202.69 MiB, increment: 0.00 MiB\n",
            "peak memory: 616.23 MiB, increment: 413.54 MiB\n",
            "peak memory: 294.78 MiB, increment: 75.52 MiB\n",
            "4000\n",
            "peak memory: 218.45 MiB, increment: 0.00 MiB\n",
            "peak memory: 764.05 MiB, increment: 545.60 MiB\n",
            "peak memory: 341.78 MiB, increment: 104.86 MiB\n",
            "4500\n",
            "peak memory: 237.21 MiB, increment: 0.00 MiB\n",
            "peak memory: 954.61 MiB, increment: 717.40 MiB\n",
            "peak memory: 561.64 MiB, increment: 0.19 MiB\n",
            "5000\n",
            "peak memory: 561.64 MiB, increment: 0.00 MiB\n",
            "peak memory: 1160.90 MiB, increment: 599.26 MiB\n",
            "peak memory: 594.10 MiB, increment: 0.08 MiB\n",
            "5500\n",
            "peak memory: 592.29 MiB, increment: 0.14 MiB\n",
            "peak memory: 1406.75 MiB, increment: 814.46 MiB\n",
            "peak memory: 631.70 MiB, increment: 0.05 MiB\n"
          ]
        }
      ]
    },
    {
      "cell_type": "code",
      "source": [
        "print(needleman_wunsch_memory, hirschberg_memory)"
      ],
      "metadata": {
        "colab": {
          "base_uri": "https://localhost:8080/"
        },
        "id": "1x_F2vU4ggiZ",
        "outputId": "9eff6dcf-849c-4267-8d28-da38d490c382"
      },
      "execution_count": 15,
      "outputs": [
        {
          "output_type": "stream",
          "name": "stdout",
          "text": [
            "[0.11328125, 9.05859375, 30.59375, 70.94140625, 128.2421875, 188.1015625, 289.78515625, 413.5390625, 545.59765625, 717.40234375, 599.2578125, 814.60546875] [0.11328125, 6.5234375, 9.34375, 19.07421875, 32.6796875, 38.234375, 63.78515625, 92.08984375, 123.33203125, 324.4375, 32.45703125, 39.55078125]\n"
          ]
        }
      ]
    },
    {
      "cell_type": "code",
      "source": [
        "import matplotlib.pyplot as plt\n",
        "import numpy as np\n",
        "\n",
        "plt.plot(sequence_lengths[0:9], needleman_wunsch_memory[0:9], marker='o', markersize=5, label='Needleman-Wunsch', color='deepskyblue')\n",
        "plt.plot(sequence_lengths[0:9], hirschberg_memory[0:9], marker='o', markersize=5, label='Hirschberg', color='hotpink')\n",
        "\n",
        "plt.title('Needleman-Wunsch vs. Hirschberg - Memory Usage Comparison')\n",
        "plt.xlabel('Sequence Length (# characters)')\n",
        "plt.ylabel('Memory Usage (MB)')\n",
        "plt.legend()\n",
        "plt.grid(which='both', alpha=0.5)\n",
        "\n",
        "plt.legend()\n",
        "plt.show()"
      ],
      "metadata": {
        "id": "nNnzmluelP2y",
        "colab": {
          "base_uri": "https://localhost:8080/",
          "height": 472
        },
        "outputId": "24e6d56b-52bc-495e-ce89-a4be529f94b6"
      },
      "execution_count": 20,
      "outputs": [
        {
          "output_type": "display_data",
          "data": {
            "text/plain": [
              "<Figure size 640x480 with 1 Axes>"
            ],
            "image/png": "[encoded data removed]"
          },
          "metadata": {}
        }
      ]
    },
    {
      "cell_type": "code",
      "source": [
        "import pandas as pd\n",
        "\n",
        "# Creating a DataFrame\n",
        "data = {\n",
        "    'Sequence Length (# characters)': sequence_lengths[0:9],\n",
        "    'Needleman-Wunsch memory (MB)': needleman_wunsch_memory[0:9],\n",
        "    'Hirschberg memory (MB)': hirschberg_memory[0:9]\n",
        "}\n",
        "\n",
        "df = pd.DataFrame(data)\n",
        "df.style.hide_index()"
      ],
      "metadata": {
        "colab": {
          "base_uri": "https://localhost:8080/",
          "height": 366
        },
        "id": "olbHly10fYTB",
        "outputId": "58ccc3ab-8fa3-44c0-f77f-7c5b8caac3c6"
      },
      "execution_count": 32,
      "outputs": [
        {
          "output_type": "stream",
          "name": "stderr",
          "text": [
            "<ipython-input-32-643d8928fa62>:11: FutureWarning: this method is deprecated in favour of `Styler.hide(axis=\"index\")`\n",
            "  df.style.hide_index()\n"
          ]
        },
        {
          "output_type": "execute_result",
          "data": {
            "text/plain": [
              "<pandas.io.formats.style.Styler at 0x7bf9830219c0>"
            ],
            "text/html": [
              "<style type=\"text/css\">\n",
              "</style>\n",
              "<table id=\"T_d7c53\" class=\"dataframe\">\n",
              "  <thead>\n",
              "    <tr>\n",
              "      <th id=\"T_d7c53_level0_col0\" class=\"col_heading level0 col0\" >Sequence Length (# characters)</th>\n",
              "      <th id=\"T_d7c53_level0_col1\" class=\"col_heading level0 col1\" >Needleman-Wunsch memory (MB)</th>\n",
              "      <th id=\"T_d7c53_level0_col2\" class=\"col_heading level0 col2\" >Hirschberg memory (MB)</th>\n",
              "    </tr>\n",
              "  </thead>\n",
              "  <tbody>\n",
              "    <tr>\n",
              "      <td id=\"T_d7c53_row0_col0\" class=\"data row0 col0\" >0</td>\n",
              "      <td id=\"T_d7c53_row0_col1\" class=\"data row0 col1\" >0.113281</td>\n",
              "      <td id=\"T_d7c53_row0_col2\" class=\"data row0 col2\" >0.113281</td>\n",
              "    </tr>\n",
              "    <tr>\n",
              "      <td id=\"T_d7c53_row1_col0\" class=\"data row1 col0\" >500</td>\n",
              "      <td id=\"T_d7c53_row1_col1\" class=\"data row1 col1\" >9.058594</td>\n",
              "      <td id=\"T_d7c53_row1_col2\" class=\"data row1 col2\" >6.523438</td>\n",
              "    </tr>\n",
              "    <tr>\n",
              "      <td id=\"T_d7c53_row2_col0\" class=\"data row2 col0\" >1000</td>\n",
              "      <td id=\"T_d7c53_row2_col1\" class=\"data row2 col1\" >30.593750</td>\n",
              "      <td id=\"T_d7c53_row2_col2\" class=\"data row2 col2\" >9.343750</td>\n",
              "    </tr>\n",
              "    <tr>\n",
              "      <td id=\"T_d7c53_row3_col0\" class=\"data row3 col0\" >1500</td>\n",
              "      <td id=\"T_d7c53_row3_col1\" class=\"data row3 col1\" >70.941406</td>\n",
              "      <td id=\"T_d7c53_row3_col2\" class=\"data row3 col2\" >19.074219</td>\n",
              "    </tr>\n",
              "    <tr>\n",
              "      <td id=\"T_d7c53_row4_col0\" class=\"data row4 col0\" >2000</td>\n",
              "      <td id=\"T_d7c53_row4_col1\" class=\"data row4 col1\" >128.242188</td>\n",
              "      <td id=\"T_d7c53_row4_col2\" class=\"data row4 col2\" >32.679688</td>\n",
              "    </tr>\n",
              "    <tr>\n",
              "      <td id=\"T_d7c53_row5_col0\" class=\"data row5 col0\" >2500</td>\n",
              "      <td id=\"T_d7c53_row5_col1\" class=\"data row5 col1\" >188.101562</td>\n",
              "      <td id=\"T_d7c53_row5_col2\" class=\"data row5 col2\" >38.234375</td>\n",
              "    </tr>\n",
              "    <tr>\n",
              "      <td id=\"T_d7c53_row6_col0\" class=\"data row6 col0\" >3000</td>\n",
              "      <td id=\"T_d7c53_row6_col1\" class=\"data row6 col1\" >289.785156</td>\n",
              "      <td id=\"T_d7c53_row6_col2\" class=\"data row6 col2\" >63.785156</td>\n",
              "    </tr>\n",
              "    <tr>\n",
              "      <td id=\"T_d7c53_row7_col0\" class=\"data row7 col0\" >3500</td>\n",
              "      <td id=\"T_d7c53_row7_col1\" class=\"data row7 col1\" >413.539062</td>\n",
              "      <td id=\"T_d7c53_row7_col2\" class=\"data row7 col2\" >92.089844</td>\n",
              "    </tr>\n",
              "    <tr>\n",
              "      <td id=\"T_d7c53_row8_col0\" class=\"data row8 col0\" >4000</td>\n",
              "      <td id=\"T_d7c53_row8_col1\" class=\"data row8 col1\" >545.597656</td>\n",
              "      <td id=\"T_d7c53_row8_col2\" class=\"data row8 col2\" >123.332031</td>\n",
              "    </tr>\n",
              "  </tbody>\n",
              "</table>\n"
            ]
          },
          "metadata": {},
          "execution_count": 32
        }
      ]
    },
    {
      "cell_type": "code",
      "source": [],
      "metadata": {
        "id": "ecKO15j16gn8"
      },
      "execution_count": null,
      "outputs": []
    }
  ]
}
